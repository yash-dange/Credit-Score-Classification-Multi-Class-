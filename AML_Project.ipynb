{
 "cells": [
  {
   "cell_type": "code",
   "execution_count": 1,
   "metadata": {
    "id": "mPsHswHHHGZm"
   },
   "outputs": [],
   "source": [
    "import numpy as np\n",
    "import pandas as pd\n",
    "import matplotlib.pyplot as plt\n",
    "import seaborn as sns\n",
    "import re\n",
    "\n",
    "from sklearn.preprocessing import StandardScaler, OneHotEncoder, OrdinalEncoder"
   ]
  },
  {
   "cell_type": "code",
   "execution_count": 2,
   "metadata": {
    "colab": {
     "base_uri": "https://localhost:8080/",
     "height": 465
    },
    "id": "gS6SQv76Pfu8",
    "outputId": "1995c8c7-9ddb-41fc-ea3d-12f19e0da5bb"
   },
   "outputs": [
    {
     "name": "stderr",
     "output_type": "stream",
     "text": [
      "/var/folders/35/w4mjwsg52fx_0rmkjw1fmr7c0000gn/T/ipykernel_72130/2716393001.py:1: DtypeWarning: Columns (26) have mixed types. Specify dtype option on import or set low_memory=False.\n",
      "  credit_df = pd.read_csv('./data/train.csv')\n"
     ]
    },
    {
     "data": {
      "text/html": [
       "<div>\n",
       "<style scoped>\n",
       "    .dataframe tbody tr th:only-of-type {\n",
       "        vertical-align: middle;\n",
       "    }\n",
       "\n",
       "    .dataframe tbody tr th {\n",
       "        vertical-align: top;\n",
       "    }\n",
       "\n",
       "    .dataframe thead th {\n",
       "        text-align: right;\n",
       "    }\n",
       "</style>\n",
       "<table border=\"1\" class=\"dataframe\">\n",
       "  <thead>\n",
       "    <tr style=\"text-align: right;\">\n",
       "      <th></th>\n",
       "      <th>ID</th>\n",
       "      <th>Customer_ID</th>\n",
       "      <th>Month</th>\n",
       "      <th>Name</th>\n",
       "      <th>Age</th>\n",
       "      <th>SSN</th>\n",
       "      <th>Occupation</th>\n",
       "      <th>Annual_Income</th>\n",
       "      <th>Monthly_Inhand_Salary</th>\n",
       "      <th>Num_Bank_Accounts</th>\n",
       "      <th>...</th>\n",
       "      <th>Credit_Mix</th>\n",
       "      <th>Outstanding_Debt</th>\n",
       "      <th>Credit_Utilization_Ratio</th>\n",
       "      <th>Credit_History_Age</th>\n",
       "      <th>Payment_of_Min_Amount</th>\n",
       "      <th>Total_EMI_per_month</th>\n",
       "      <th>Amount_invested_monthly</th>\n",
       "      <th>Payment_Behaviour</th>\n",
       "      <th>Monthly_Balance</th>\n",
       "      <th>Credit_Score</th>\n",
       "    </tr>\n",
       "  </thead>\n",
       "  <tbody>\n",
       "    <tr>\n",
       "      <th>0</th>\n",
       "      <td>0x1602</td>\n",
       "      <td>CUS_0xd40</td>\n",
       "      <td>January</td>\n",
       "      <td>Aaron Maashoh</td>\n",
       "      <td>23</td>\n",
       "      <td>821-00-0265</td>\n",
       "      <td>Scientist</td>\n",
       "      <td>19114.12</td>\n",
       "      <td>1824.843333</td>\n",
       "      <td>3</td>\n",
       "      <td>...</td>\n",
       "      <td>_</td>\n",
       "      <td>809.98</td>\n",
       "      <td>26.822620</td>\n",
       "      <td>22 Years and 1 Months</td>\n",
       "      <td>No</td>\n",
       "      <td>49.574949</td>\n",
       "      <td>80.41529543900253</td>\n",
       "      <td>High_spent_Small_value_payments</td>\n",
       "      <td>312.49408867943663</td>\n",
       "      <td>Good</td>\n",
       "    </tr>\n",
       "    <tr>\n",
       "      <th>1</th>\n",
       "      <td>0x1603</td>\n",
       "      <td>CUS_0xd40</td>\n",
       "      <td>February</td>\n",
       "      <td>Aaron Maashoh</td>\n",
       "      <td>23</td>\n",
       "      <td>821-00-0265</td>\n",
       "      <td>Scientist</td>\n",
       "      <td>19114.12</td>\n",
       "      <td>NaN</td>\n",
       "      <td>3</td>\n",
       "      <td>...</td>\n",
       "      <td>Good</td>\n",
       "      <td>809.98</td>\n",
       "      <td>31.944960</td>\n",
       "      <td>NaN</td>\n",
       "      <td>No</td>\n",
       "      <td>49.574949</td>\n",
       "      <td>118.28022162236736</td>\n",
       "      <td>Low_spent_Large_value_payments</td>\n",
       "      <td>284.62916249607184</td>\n",
       "      <td>Good</td>\n",
       "    </tr>\n",
       "    <tr>\n",
       "      <th>2</th>\n",
       "      <td>0x1604</td>\n",
       "      <td>CUS_0xd40</td>\n",
       "      <td>March</td>\n",
       "      <td>Aaron Maashoh</td>\n",
       "      <td>-500</td>\n",
       "      <td>821-00-0265</td>\n",
       "      <td>Scientist</td>\n",
       "      <td>19114.12</td>\n",
       "      <td>NaN</td>\n",
       "      <td>3</td>\n",
       "      <td>...</td>\n",
       "      <td>Good</td>\n",
       "      <td>809.98</td>\n",
       "      <td>28.609352</td>\n",
       "      <td>22 Years and 3 Months</td>\n",
       "      <td>No</td>\n",
       "      <td>49.574949</td>\n",
       "      <td>81.699521264648</td>\n",
       "      <td>Low_spent_Medium_value_payments</td>\n",
       "      <td>331.2098628537912</td>\n",
       "      <td>Good</td>\n",
       "    </tr>\n",
       "    <tr>\n",
       "      <th>3</th>\n",
       "      <td>0x1605</td>\n",
       "      <td>CUS_0xd40</td>\n",
       "      <td>April</td>\n",
       "      <td>Aaron Maashoh</td>\n",
       "      <td>23</td>\n",
       "      <td>821-00-0265</td>\n",
       "      <td>Scientist</td>\n",
       "      <td>19114.12</td>\n",
       "      <td>NaN</td>\n",
       "      <td>3</td>\n",
       "      <td>...</td>\n",
       "      <td>Good</td>\n",
       "      <td>809.98</td>\n",
       "      <td>31.377862</td>\n",
       "      <td>22 Years and 4 Months</td>\n",
       "      <td>No</td>\n",
       "      <td>49.574949</td>\n",
       "      <td>199.4580743910713</td>\n",
       "      <td>Low_spent_Small_value_payments</td>\n",
       "      <td>223.45130972736786</td>\n",
       "      <td>Good</td>\n",
       "    </tr>\n",
       "    <tr>\n",
       "      <th>4</th>\n",
       "      <td>0x1606</td>\n",
       "      <td>CUS_0xd40</td>\n",
       "      <td>May</td>\n",
       "      <td>Aaron Maashoh</td>\n",
       "      <td>23</td>\n",
       "      <td>821-00-0265</td>\n",
       "      <td>Scientist</td>\n",
       "      <td>19114.12</td>\n",
       "      <td>1824.843333</td>\n",
       "      <td>3</td>\n",
       "      <td>...</td>\n",
       "      <td>Good</td>\n",
       "      <td>809.98</td>\n",
       "      <td>24.797347</td>\n",
       "      <td>22 Years and 5 Months</td>\n",
       "      <td>No</td>\n",
       "      <td>49.574949</td>\n",
       "      <td>41.420153086217326</td>\n",
       "      <td>High_spent_Medium_value_payments</td>\n",
       "      <td>341.48923103222177</td>\n",
       "      <td>Good</td>\n",
       "    </tr>\n",
       "  </tbody>\n",
       "</table>\n",
       "<p>5 rows × 28 columns</p>\n",
       "</div>"
      ],
      "text/plain": [
       "       ID Customer_ID     Month           Name   Age          SSN Occupation  \\\n",
       "0  0x1602   CUS_0xd40   January  Aaron Maashoh    23  821-00-0265  Scientist   \n",
       "1  0x1603   CUS_0xd40  February  Aaron Maashoh    23  821-00-0265  Scientist   \n",
       "2  0x1604   CUS_0xd40     March  Aaron Maashoh  -500  821-00-0265  Scientist   \n",
       "3  0x1605   CUS_0xd40     April  Aaron Maashoh    23  821-00-0265  Scientist   \n",
       "4  0x1606   CUS_0xd40       May  Aaron Maashoh    23  821-00-0265  Scientist   \n",
       "\n",
       "  Annual_Income  Monthly_Inhand_Salary  Num_Bank_Accounts  ...  Credit_Mix  \\\n",
       "0      19114.12            1824.843333                  3  ...           _   \n",
       "1      19114.12                    NaN                  3  ...        Good   \n",
       "2      19114.12                    NaN                  3  ...        Good   \n",
       "3      19114.12                    NaN                  3  ...        Good   \n",
       "4      19114.12            1824.843333                  3  ...        Good   \n",
       "\n",
       "   Outstanding_Debt Credit_Utilization_Ratio     Credit_History_Age  \\\n",
       "0            809.98                26.822620  22 Years and 1 Months   \n",
       "1            809.98                31.944960                    NaN   \n",
       "2            809.98                28.609352  22 Years and 3 Months   \n",
       "3            809.98                31.377862  22 Years and 4 Months   \n",
       "4            809.98                24.797347  22 Years and 5 Months   \n",
       "\n",
       "   Payment_of_Min_Amount Total_EMI_per_month Amount_invested_monthly  \\\n",
       "0                     No           49.574949       80.41529543900253   \n",
       "1                     No           49.574949      118.28022162236736   \n",
       "2                     No           49.574949         81.699521264648   \n",
       "3                     No           49.574949       199.4580743910713   \n",
       "4                     No           49.574949      41.420153086217326   \n",
       "\n",
       "                  Payment_Behaviour     Monthly_Balance Credit_Score  \n",
       "0   High_spent_Small_value_payments  312.49408867943663         Good  \n",
       "1    Low_spent_Large_value_payments  284.62916249607184         Good  \n",
       "2   Low_spent_Medium_value_payments   331.2098628537912         Good  \n",
       "3    Low_spent_Small_value_payments  223.45130972736786         Good  \n",
       "4  High_spent_Medium_value_payments  341.48923103222177         Good  \n",
       "\n",
       "[5 rows x 28 columns]"
      ]
     },
     "execution_count": 2,
     "metadata": {},
     "output_type": "execute_result"
    }
   ],
   "source": [
    "credit_df = pd.read_csv('./data/train.csv')\n",
    "credit_df.head()"
   ]
  },
  {
   "cell_type": "code",
   "execution_count": 3,
   "metadata": {
    "colab": {
     "base_uri": "https://localhost:8080/"
    },
    "id": "ENUDxGk5Q3E_",
    "outputId": "47c3d1ab-d80a-4b84-be11-f38e091d19c6"
   },
   "outputs": [
    {
     "data": {
      "text/plain": [
       "ID                          100000\n",
       "Customer_ID                 100000\n",
       "Month                       100000\n",
       "Name                         90015\n",
       "Age                         100000\n",
       "SSN                         100000\n",
       "Occupation                  100000\n",
       "Annual_Income               100000\n",
       "Monthly_Inhand_Salary        84998\n",
       "Num_Bank_Accounts           100000\n",
       "Num_Credit_Card             100000\n",
       "Interest_Rate               100000\n",
       "Num_of_Loan                 100000\n",
       "Type_of_Loan                 88592\n",
       "Delay_from_due_date         100000\n",
       "Num_of_Delayed_Payment       92998\n",
       "Changed_Credit_Limit        100000\n",
       "Num_Credit_Inquiries         98035\n",
       "Credit_Mix                  100000\n",
       "Outstanding_Debt            100000\n",
       "Credit_Utilization_Ratio    100000\n",
       "Credit_History_Age           90970\n",
       "Payment_of_Min_Amount       100000\n",
       "Total_EMI_per_month         100000\n",
       "Amount_invested_monthly      95521\n",
       "Payment_Behaviour           100000\n",
       "Monthly_Balance              98800\n",
       "Credit_Score                100000\n",
       "dtype: int64"
      ]
     },
     "execution_count": 3,
     "metadata": {},
     "output_type": "execute_result"
    }
   ],
   "source": [
    "credit_df.count()"
   ]
  },
  {
   "cell_type": "code",
   "execution_count": 4,
   "metadata": {
    "colab": {
     "base_uri": "https://localhost:8080/"
    },
    "id": "0WEjEE8mW-kq",
    "outputId": "08e9c111-d040-4340-bd87-2518c66c8d55"
   },
   "outputs": [
    {
     "data": {
      "text/plain": [
       "ID                          100000\n",
       "Customer_ID                  12500\n",
       "Month                            8\n",
       "Name                         10139\n",
       "Age                           1788\n",
       "SSN                          12501\n",
       "Occupation                      16\n",
       "Annual_Income                18940\n",
       "Monthly_Inhand_Salary        13235\n",
       "Num_Bank_Accounts              943\n",
       "Num_Credit_Card               1179\n",
       "Interest_Rate                 1750\n",
       "Num_of_Loan                    434\n",
       "Type_of_Loan                  6260\n",
       "Delay_from_due_date             73\n",
       "Num_of_Delayed_Payment         749\n",
       "Changed_Credit_Limit          4384\n",
       "Num_Credit_Inquiries          1223\n",
       "Credit_Mix                       4\n",
       "Outstanding_Debt             13178\n",
       "Credit_Utilization_Ratio    100000\n",
       "Credit_History_Age             404\n",
       "Payment_of_Min_Amount            3\n",
       "Total_EMI_per_month          14950\n",
       "Amount_invested_monthly      91049\n",
       "Payment_Behaviour                7\n",
       "Monthly_Balance              98792\n",
       "Credit_Score                     3\n",
       "dtype: int64"
      ]
     },
     "execution_count": 4,
     "metadata": {},
     "output_type": "execute_result"
    }
   ],
   "source": [
    "credit_df.nunique(axis=0)"
   ]
  },
  {
   "cell_type": "code",
   "execution_count": 5,
   "metadata": {
    "colab": {
     "base_uri": "https://localhost:8080/"
    },
    "id": "tfxLuUFtU_Zz",
    "outputId": "9f531fc6-b5f0-47b5-d61d-1f684d309301"
   },
   "outputs": [
    {
     "data": {
      "text/plain": [
       "ID                              0\n",
       "Customer_ID                     0\n",
       "Month                           0\n",
       "Name                         9985\n",
       "Age                             0\n",
       "SSN                             0\n",
       "Occupation                      0\n",
       "Annual_Income                   0\n",
       "Monthly_Inhand_Salary       15002\n",
       "Num_Bank_Accounts               0\n",
       "Num_Credit_Card                 0\n",
       "Interest_Rate                   0\n",
       "Num_of_Loan                     0\n",
       "Type_of_Loan                11408\n",
       "Delay_from_due_date             0\n",
       "Num_of_Delayed_Payment       7002\n",
       "Changed_Credit_Limit            0\n",
       "Num_Credit_Inquiries         1965\n",
       "Credit_Mix                      0\n",
       "Outstanding_Debt                0\n",
       "Credit_Utilization_Ratio        0\n",
       "Credit_History_Age           9030\n",
       "Payment_of_Min_Amount           0\n",
       "Total_EMI_per_month             0\n",
       "Amount_invested_monthly      4479\n",
       "Payment_Behaviour               0\n",
       "Monthly_Balance              1200\n",
       "Credit_Score                    0\n",
       "dtype: int64"
      ]
     },
     "execution_count": 5,
     "metadata": {},
     "output_type": "execute_result"
    }
   ],
   "source": [
    "credit_df.isnull().sum()"
   ]
  },
  {
   "cell_type": "code",
   "execution_count": 6,
   "metadata": {
    "colab": {
     "base_uri": "https://localhost:8080/"
    },
    "id": "pbLY06dKCV90",
    "outputId": "0684fa27-4150-4e86-9810-575adca631f9",
    "scrolled": false
   },
   "outputs": [
    {
     "name": "stdout",
     "output_type": "stream",
     "text": [
      "<class 'pandas.core.frame.DataFrame'>\n",
      "RangeIndex: 100000 entries, 0 to 99999\n",
      "Data columns (total 28 columns):\n",
      " #   Column                    Non-Null Count   Dtype  \n",
      "---  ------                    --------------   -----  \n",
      " 0   ID                        100000 non-null  object \n",
      " 1   Customer_ID               100000 non-null  object \n",
      " 2   Month                     100000 non-null  object \n",
      " 3   Name                      90015 non-null   object \n",
      " 4   Age                       100000 non-null  object \n",
      " 5   SSN                       100000 non-null  object \n",
      " 6   Occupation                100000 non-null  object \n",
      " 7   Annual_Income             100000 non-null  object \n",
      " 8   Monthly_Inhand_Salary     84998 non-null   float64\n",
      " 9   Num_Bank_Accounts         100000 non-null  int64  \n",
      " 10  Num_Credit_Card           100000 non-null  int64  \n",
      " 11  Interest_Rate             100000 non-null  int64  \n",
      " 12  Num_of_Loan               100000 non-null  object \n",
      " 13  Type_of_Loan              88592 non-null   object \n",
      " 14  Delay_from_due_date       100000 non-null  int64  \n",
      " 15  Num_of_Delayed_Payment    92998 non-null   object \n",
      " 16  Changed_Credit_Limit      100000 non-null  object \n",
      " 17  Num_Credit_Inquiries      98035 non-null   float64\n",
      " 18  Credit_Mix                100000 non-null  object \n",
      " 19  Outstanding_Debt          100000 non-null  object \n",
      " 20  Credit_Utilization_Ratio  100000 non-null  float64\n",
      " 21  Credit_History_Age        90970 non-null   object \n",
      " 22  Payment_of_Min_Amount     100000 non-null  object \n",
      " 23  Total_EMI_per_month       100000 non-null  float64\n",
      " 24  Amount_invested_monthly   95521 non-null   object \n",
      " 25  Payment_Behaviour         100000 non-null  object \n",
      " 26  Monthly_Balance           98800 non-null   object \n",
      " 27  Credit_Score              100000 non-null  object \n",
      "dtypes: float64(4), int64(4), object(20)\n",
      "memory usage: 21.4+ MB\n"
     ]
    }
   ],
   "source": [
    "credit_df.info()"
   ]
  },
  {
   "cell_type": "code",
   "execution_count": 7,
   "metadata": {},
   "outputs": [
    {
     "data": {
      "text/html": [
       "<div>\n",
       "<style scoped>\n",
       "    .dataframe tbody tr th:only-of-type {\n",
       "        vertical-align: middle;\n",
       "    }\n",
       "\n",
       "    .dataframe tbody tr th {\n",
       "        vertical-align: top;\n",
       "    }\n",
       "\n",
       "    .dataframe thead th {\n",
       "        text-align: right;\n",
       "    }\n",
       "</style>\n",
       "<table border=\"1\" class=\"dataframe\">\n",
       "  <thead>\n",
       "    <tr style=\"text-align: right;\">\n",
       "      <th></th>\n",
       "      <th>Monthly_Inhand_Salary</th>\n",
       "      <th>Num_Bank_Accounts</th>\n",
       "      <th>Num_Credit_Card</th>\n",
       "      <th>Interest_Rate</th>\n",
       "      <th>Delay_from_due_date</th>\n",
       "      <th>Num_Credit_Inquiries</th>\n",
       "      <th>Credit_Utilization_Ratio</th>\n",
       "      <th>Total_EMI_per_month</th>\n",
       "    </tr>\n",
       "  </thead>\n",
       "  <tbody>\n",
       "    <tr>\n",
       "      <th>count</th>\n",
       "      <td>84998.000000</td>\n",
       "      <td>100000.000000</td>\n",
       "      <td>100000.00000</td>\n",
       "      <td>100000.000000</td>\n",
       "      <td>100000.000000</td>\n",
       "      <td>98035.000000</td>\n",
       "      <td>100000.000000</td>\n",
       "      <td>100000.000000</td>\n",
       "    </tr>\n",
       "    <tr>\n",
       "      <th>mean</th>\n",
       "      <td>4194.170850</td>\n",
       "      <td>17.091280</td>\n",
       "      <td>22.47443</td>\n",
       "      <td>72.466040</td>\n",
       "      <td>21.068780</td>\n",
       "      <td>27.754251</td>\n",
       "      <td>32.285173</td>\n",
       "      <td>1403.118217</td>\n",
       "    </tr>\n",
       "    <tr>\n",
       "      <th>std</th>\n",
       "      <td>3183.686167</td>\n",
       "      <td>117.404834</td>\n",
       "      <td>129.05741</td>\n",
       "      <td>466.422621</td>\n",
       "      <td>14.860104</td>\n",
       "      <td>193.177339</td>\n",
       "      <td>5.116875</td>\n",
       "      <td>8306.041270</td>\n",
       "    </tr>\n",
       "    <tr>\n",
       "      <th>min</th>\n",
       "      <td>303.645417</td>\n",
       "      <td>-1.000000</td>\n",
       "      <td>0.00000</td>\n",
       "      <td>1.000000</td>\n",
       "      <td>-5.000000</td>\n",
       "      <td>0.000000</td>\n",
       "      <td>20.000000</td>\n",
       "      <td>0.000000</td>\n",
       "    </tr>\n",
       "    <tr>\n",
       "      <th>25%</th>\n",
       "      <td>1625.568229</td>\n",
       "      <td>3.000000</td>\n",
       "      <td>4.00000</td>\n",
       "      <td>8.000000</td>\n",
       "      <td>10.000000</td>\n",
       "      <td>3.000000</td>\n",
       "      <td>28.052567</td>\n",
       "      <td>30.306660</td>\n",
       "    </tr>\n",
       "    <tr>\n",
       "      <th>50%</th>\n",
       "      <td>3093.745000</td>\n",
       "      <td>6.000000</td>\n",
       "      <td>5.00000</td>\n",
       "      <td>13.000000</td>\n",
       "      <td>18.000000</td>\n",
       "      <td>6.000000</td>\n",
       "      <td>32.305784</td>\n",
       "      <td>69.249473</td>\n",
       "    </tr>\n",
       "    <tr>\n",
       "      <th>75%</th>\n",
       "      <td>5957.448333</td>\n",
       "      <td>7.000000</td>\n",
       "      <td>7.00000</td>\n",
       "      <td>20.000000</td>\n",
       "      <td>28.000000</td>\n",
       "      <td>9.000000</td>\n",
       "      <td>36.496663</td>\n",
       "      <td>161.224249</td>\n",
       "    </tr>\n",
       "    <tr>\n",
       "      <th>max</th>\n",
       "      <td>15204.633333</td>\n",
       "      <td>1798.000000</td>\n",
       "      <td>1499.00000</td>\n",
       "      <td>5797.000000</td>\n",
       "      <td>67.000000</td>\n",
       "      <td>2597.000000</td>\n",
       "      <td>50.000000</td>\n",
       "      <td>82331.000000</td>\n",
       "    </tr>\n",
       "  </tbody>\n",
       "</table>\n",
       "</div>"
      ],
      "text/plain": [
       "       Monthly_Inhand_Salary  Num_Bank_Accounts  Num_Credit_Card  \\\n",
       "count           84998.000000      100000.000000     100000.00000   \n",
       "mean             4194.170850          17.091280         22.47443   \n",
       "std              3183.686167         117.404834        129.05741   \n",
       "min               303.645417          -1.000000          0.00000   \n",
       "25%              1625.568229           3.000000          4.00000   \n",
       "50%              3093.745000           6.000000          5.00000   \n",
       "75%              5957.448333           7.000000          7.00000   \n",
       "max             15204.633333        1798.000000       1499.00000   \n",
       "\n",
       "       Interest_Rate  Delay_from_due_date  Num_Credit_Inquiries  \\\n",
       "count  100000.000000        100000.000000          98035.000000   \n",
       "mean       72.466040            21.068780             27.754251   \n",
       "std       466.422621            14.860104            193.177339   \n",
       "min         1.000000            -5.000000              0.000000   \n",
       "25%         8.000000            10.000000              3.000000   \n",
       "50%        13.000000            18.000000              6.000000   \n",
       "75%        20.000000            28.000000              9.000000   \n",
       "max      5797.000000            67.000000           2597.000000   \n",
       "\n",
       "       Credit_Utilization_Ratio  Total_EMI_per_month  \n",
       "count             100000.000000        100000.000000  \n",
       "mean                  32.285173          1403.118217  \n",
       "std                    5.116875          8306.041270  \n",
       "min                   20.000000             0.000000  \n",
       "25%                   28.052567            30.306660  \n",
       "50%                   32.305784            69.249473  \n",
       "75%                   36.496663           161.224249  \n",
       "max                   50.000000         82331.000000  "
      ]
     },
     "execution_count": 7,
     "metadata": {},
     "output_type": "execute_result"
    }
   ],
   "source": [
    "credit_df.describe()"
   ]
  },
  {
   "cell_type": "code",
   "execution_count": 9,
   "metadata": {},
   "outputs": [
    {
     "data": {
      "text/plain": [
       "(100000, 28)"
      ]
     },
     "execution_count": 9,
     "metadata": {},
     "output_type": "execute_result"
    }
   ],
   "source": [
    "credit_df.shape"
   ]
  },
  {
   "cell_type": "markdown",
   "metadata": {
    "id": "O_VMeNtqNtqk"
   },
   "source": [
    "# Data Preprocessing"
   ]
  },
  {
   "cell_type": "markdown",
   "metadata": {
    "id": "I2CuIk8CYqsQ"
   },
   "source": [
    "-Handle missing values in name column by looking up customer_id and using the name that belongs to the corresping id"
   ]
  },
  {
   "cell_type": "code",
   "execution_count": 10,
   "metadata": {
    "colab": {
     "base_uri": "https://localhost:8080/"
    },
    "id": "UcD9Phn-N0s8",
    "outputId": "8c77ab9a-c65c-429f-a910-d754580f4028"
   },
   "outputs": [
    {
     "name": "stdout",
     "output_type": "stream",
     "text": [
      "<class 'numpy.ndarray'>\n",
      "(9985,)\n"
     ]
    }
   ],
   "source": [
    "all_Customer_ID = credit_df[credit_df['Name'].isnull()]['Customer_ID'].values\n",
    "print(type(all_Customer_ID))\n",
    "print(all_Customer_ID.shape)\n",
    "#print(len(all_Customer_ID))\n",
    "for id in all_Customer_ID:\n",
    "  name = credit_df.loc[(credit_df['Customer_ID'] == id) & (credit_df['Name'].notna())]['Name'].values[0]\n",
    "  credit_df.loc[(credit_df['Customer_ID'] == id) & (credit_df['Name'].isna()), ['Name']] = name"
   ]
  },
  {
   "cell_type": "code",
   "execution_count": 11,
   "metadata": {
    "colab": {
     "base_uri": "https://localhost:8080/"
    },
    "id": "pLYU6l7qTACW",
    "outputId": "296f796f-3502-4e31-fd09-a6fbe9f28f47"
   },
   "outputs": [
    {
     "data": {
      "text/plain": [
       "0    Aaron Maashoh\n",
       "1    Aaron Maashoh\n",
       "2    Aaron Maashoh\n",
       "3    Aaron Maashoh\n",
       "4    Aaron Maashoh\n",
       "5    Aaron Maashoh\n",
       "6    Aaron Maashoh\n",
       "7    Aaron Maashoh\n",
       "Name: Name, dtype: object"
      ]
     },
     "execution_count": 11,
     "metadata": {},
     "output_type": "execute_result"
    }
   ],
   "source": [
    "credit_df[credit_df['Customer_ID'] == 'CUS_0xd40']['Name']"
   ]
  },
  {
   "cell_type": "markdown",
   "metadata": {
    "id": "w0ieRT7oZBi0"
   },
   "source": [
    "-Remove any additional characters in the age field i.e. '_', convert age field to type int, replace abnormal ages with the correct age of the person, looking up corresponding customer_id"
   ]
  },
  {
   "cell_type": "code",
   "execution_count": 12,
   "metadata": {
    "colab": {
     "base_uri": "https://localhost:8080/"
    },
    "id": "QZgPQRLrUa3J",
    "outputId": "110c5490-63cd-47e4-ab8d-748f73f2d690"
   },
   "outputs": [
    {
     "name": "stdout",
     "output_type": "stream",
     "text": [
      "(2781,)\n"
     ]
    }
   ],
   "source": [
    "#credit_df['Age'] = [str(s).replace('_', '') for s in credit_df['Age']]\n",
    "#for val in credit_df['Age']:\n",
    "#  credit_df['Age'] = str(val).replace('_', '')\n",
    "credit_df['Age'] = [str(val).replace('_', '') for val in credit_df['Age']]\n",
    "credit_df['Age'] = credit_df['Age'].astype(int)\n",
    "abnormal_ages= credit_df[(credit_df['Age'] < 10) | (credit_df['Age'] > 70)]['Customer_ID'].values #id or abnoraml ages\n",
    "print(abnormal_ages.shape)\n",
    "for id in abnormal_ages:\n",
    "    age = credit_df[credit_df['Customer_ID'] ==id]['Age'].drop_duplicates().values[0]\n",
    "    if age < 10 or age > 70:\n",
    "        age = credit_df[credit_df['Customer_ID'] ==id]['Age'].drop_duplicates().values[1]\n",
    "    credit_df.loc[(credit_df['Customer_ID'] == id) & ((credit_df['Age'] < 10) | (credit_df['Age'] > 70)), ['Age']] = age"
   ]
  },
  {
   "cell_type": "code",
   "execution_count": 19,
   "metadata": {
    "colab": {
     "base_uri": "https://localhost:8080/"
    },
    "id": "4wqFSYfGoYix",
    "outputId": "49a15e0c-af7b-4c33-9b92-145cc892d431"
   },
   "outputs": [
    {
     "data": {
      "text/plain": [
       "0    23\n",
       "1    23\n",
       "2    23\n",
       "3    23\n",
       "4    23\n",
       "5    23\n",
       "6    23\n",
       "7    23\n",
       "Name: Age, dtype: int64"
      ]
     },
     "execution_count": 19,
     "metadata": {},
     "output_type": "execute_result"
    }
   ],
   "source": [
    "credit_df[credit_df['Customer_ID'] == 'CUS_0xd40']['Age']"
   ]
  },
  {
   "cell_type": "code",
   "execution_count": 21,
   "metadata": {},
   "outputs": [
    {
     "data": {
      "text/plain": [
       "array(['Scientist', '_______', 'Teacher', 'Engineer', 'Entrepreneur',\n",
       "       'Developer', 'Lawyer', 'Media_Manager', 'Doctor', 'Journalist',\n",
       "       'Manager', 'Accountant', 'Musician', 'Mechanic', 'Writer',\n",
       "       'Architect'], dtype=object)"
      ]
     },
     "execution_count": 21,
     "metadata": {},
     "output_type": "execute_result"
    }
   ],
   "source": [
    "credit_df['Occupation'].unique()"
   ]
  },
  {
   "cell_type": "markdown",
   "metadata": {
    "id": "hSdfD65CZqYT"
   },
   "source": [
    "Replace occupation of '______' with the correct occupation of the applicant by looking up the corresponding customer_id"
   ]
  },
  {
   "cell_type": "code",
   "execution_count": 23,
   "metadata": {
    "colab": {
     "base_uri": "https://localhost:8080/",
     "height": 548
    },
    "id": "BwuYjrpWZGOz",
    "outputId": "8d1a20e6-1653-4504-e157-f6853c212be5"
   },
   "outputs": [
    {
     "name": "stdout",
     "output_type": "stream",
     "text": [
      "0\n"
     ]
    },
    {
     "data": {
      "text/html": [
       "<div>\n",
       "<style scoped>\n",
       "    .dataframe tbody tr th:only-of-type {\n",
       "        vertical-align: middle;\n",
       "    }\n",
       "\n",
       "    .dataframe tbody tr th {\n",
       "        vertical-align: top;\n",
       "    }\n",
       "\n",
       "    .dataframe thead th {\n",
       "        text-align: right;\n",
       "    }\n",
       "</style>\n",
       "<table border=\"1\" class=\"dataframe\">\n",
       "  <thead>\n",
       "    <tr style=\"text-align: right;\">\n",
       "      <th></th>\n",
       "      <th>ID</th>\n",
       "      <th>Customer_ID</th>\n",
       "      <th>Month</th>\n",
       "      <th>Name</th>\n",
       "      <th>Age</th>\n",
       "      <th>SSN</th>\n",
       "      <th>Occupation</th>\n",
       "      <th>Annual_Income</th>\n",
       "      <th>Monthly_Inhand_Salary</th>\n",
       "      <th>Num_Bank_Accounts</th>\n",
       "      <th>...</th>\n",
       "      <th>Credit_Mix</th>\n",
       "      <th>Outstanding_Debt</th>\n",
       "      <th>Credit_Utilization_Ratio</th>\n",
       "      <th>Credit_History_Age</th>\n",
       "      <th>Payment_of_Min_Amount</th>\n",
       "      <th>Total_EMI_per_month</th>\n",
       "      <th>Amount_invested_monthly</th>\n",
       "      <th>Payment_Behaviour</th>\n",
       "      <th>Monthly_Balance</th>\n",
       "      <th>Credit_Score</th>\n",
       "    </tr>\n",
       "  </thead>\n",
       "  <tbody>\n",
       "    <tr>\n",
       "      <th>8</th>\n",
       "      <td>0x160e</td>\n",
       "      <td>CUS_0x21b1</td>\n",
       "      <td>January</td>\n",
       "      <td>Rick Rothackerj</td>\n",
       "      <td>28</td>\n",
       "      <td>004-07-5839</td>\n",
       "      <td>_______</td>\n",
       "      <td>34847.84</td>\n",
       "      <td>3037.986667</td>\n",
       "      <td>2</td>\n",
       "      <td>...</td>\n",
       "      <td>Good</td>\n",
       "      <td>605.03</td>\n",
       "      <td>24.464031</td>\n",
       "      <td>26 Years and 7 Months</td>\n",
       "      <td>No</td>\n",
       "      <td>18.816215</td>\n",
       "      <td>104.291825168246</td>\n",
       "      <td>Low_spent_Small_value_payments</td>\n",
       "      <td>470.69062692529184</td>\n",
       "      <td>Standard</td>\n",
       "    </tr>\n",
       "    <tr>\n",
       "      <th>16</th>\n",
       "      <td>0x161a</td>\n",
       "      <td>CUS_0x2dbc</td>\n",
       "      <td>January</td>\n",
       "      <td>Langep</td>\n",
       "      <td>34</td>\n",
       "      <td>486-85-3974</td>\n",
       "      <td>_______</td>\n",
       "      <td>143162.64</td>\n",
       "      <td>12187.220000</td>\n",
       "      <td>1</td>\n",
       "      <td>...</td>\n",
       "      <td>Good</td>\n",
       "      <td>1303.01</td>\n",
       "      <td>28.616735</td>\n",
       "      <td>17 Years and 9 Months</td>\n",
       "      <td>No</td>\n",
       "      <td>246.992319</td>\n",
       "      <td>168.413702679309</td>\n",
       "      <td>!@9#%8</td>\n",
       "      <td>1043.3159778669492</td>\n",
       "      <td>Good</td>\n",
       "    </tr>\n",
       "    <tr>\n",
       "      <th>18</th>\n",
       "      <td>0x161c</td>\n",
       "      <td>CUS_0x2dbc</td>\n",
       "      <td>March</td>\n",
       "      <td>Langep</td>\n",
       "      <td>34</td>\n",
       "      <td>486-85-3974</td>\n",
       "      <td>_______</td>\n",
       "      <td>143162.64</td>\n",
       "      <td>NaN</td>\n",
       "      <td>1</td>\n",
       "      <td>...</td>\n",
       "      <td>Good</td>\n",
       "      <td>1303.01</td>\n",
       "      <td>26.519815</td>\n",
       "      <td>17 Years and 11 Months</td>\n",
       "      <td>No</td>\n",
       "      <td>246.992319</td>\n",
       "      <td>__10000__</td>\n",
       "      <td>High_spent_Small_value_payments</td>\n",
       "      <td>715.741367403555</td>\n",
       "      <td>Good</td>\n",
       "    </tr>\n",
       "    <tr>\n",
       "      <th>20</th>\n",
       "      <td>0x161e</td>\n",
       "      <td>CUS_0x2dbc</td>\n",
       "      <td>May</td>\n",
       "      <td>Langep</td>\n",
       "      <td>34</td>\n",
       "      <td>486-85-3974</td>\n",
       "      <td>_______</td>\n",
       "      <td>143162.64</td>\n",
       "      <td>12187.220000</td>\n",
       "      <td>1</td>\n",
       "      <td>...</td>\n",
       "      <td>Good</td>\n",
       "      <td>1303.01</td>\n",
       "      <td>31.376150</td>\n",
       "      <td>18 Years and 1 Months</td>\n",
       "      <td>No</td>\n",
       "      <td>246.992319</td>\n",
       "      <td>430.9475278803298</td>\n",
       "      <td>Low_spent_Large_value_payments</td>\n",
       "      <td>810.7821526659284</td>\n",
       "      <td>Good</td>\n",
       "    </tr>\n",
       "    <tr>\n",
       "      <th>29</th>\n",
       "      <td>0x162b</td>\n",
       "      <td>CUS_0xb891</td>\n",
       "      <td>June</td>\n",
       "      <td>Jasond</td>\n",
       "      <td>55</td>\n",
       "      <td>#F%$D@*&amp;8</td>\n",
       "      <td>_______</td>\n",
       "      <td>30689.89</td>\n",
       "      <td>2612.490833</td>\n",
       "      <td>2</td>\n",
       "      <td>...</td>\n",
       "      <td>_</td>\n",
       "      <td>632.46</td>\n",
       "      <td>27.445422</td>\n",
       "      <td>17 Years and 8 Months</td>\n",
       "      <td>No</td>\n",
       "      <td>16.415452</td>\n",
       "      <td>84.95284817115969</td>\n",
       "      <td>High_spent_Small_value_payments</td>\n",
       "      <td>419.8807835023488</td>\n",
       "      <td>Standard</td>\n",
       "    </tr>\n",
       "    <tr>\n",
       "      <th>...</th>\n",
       "      <td>...</td>\n",
       "      <td>...</td>\n",
       "      <td>...</td>\n",
       "      <td>...</td>\n",
       "      <td>...</td>\n",
       "      <td>...</td>\n",
       "      <td>...</td>\n",
       "      <td>...</td>\n",
       "      <td>...</td>\n",
       "      <td>...</td>\n",
       "      <td>...</td>\n",
       "      <td>...</td>\n",
       "      <td>...</td>\n",
       "      <td>...</td>\n",
       "      <td>...</td>\n",
       "      <td>...</td>\n",
       "      <td>...</td>\n",
       "      <td>...</td>\n",
       "      <td>...</td>\n",
       "      <td>...</td>\n",
       "      <td>...</td>\n",
       "    </tr>\n",
       "    <tr>\n",
       "      <th>99920</th>\n",
       "      <td>0x25f7a</td>\n",
       "      <td>CUS_0x2654</td>\n",
       "      <td>January</td>\n",
       "      <td>enj</td>\n",
       "      <td>37</td>\n",
       "      <td>647-67-8889</td>\n",
       "      <td>_______</td>\n",
       "      <td>139664.96</td>\n",
       "      <td>11777.746667</td>\n",
       "      <td>3</td>\n",
       "      <td>...</td>\n",
       "      <td>_</td>\n",
       "      <td>365.66</td>\n",
       "      <td>31.043048</td>\n",
       "      <td>29 Years and 7 Months</td>\n",
       "      <td>Yes</td>\n",
       "      <td>423.731016</td>\n",
       "      <td>282.78234595777644</td>\n",
       "      <td>High_spent_Large_value_payments</td>\n",
       "      <td>711.261305</td>\n",
       "      <td>Standard</td>\n",
       "    </tr>\n",
       "    <tr>\n",
       "      <th>99935</th>\n",
       "      <td>0x25f8d</td>\n",
       "      <td>CUS_0xb11c</td>\n",
       "      <td>August</td>\n",
       "      <td>Yinka Adegokej</td>\n",
       "      <td>38</td>\n",
       "      <td>546-94-4789</td>\n",
       "      <td>_______</td>\n",
       "      <td>15319.65</td>\n",
       "      <td>1460.637500</td>\n",
       "      <td>6</td>\n",
       "      <td>...</td>\n",
       "      <td>Bad</td>\n",
       "      <td>1453.61</td>\n",
       "      <td>34.557510</td>\n",
       "      <td>11 Years and 4 Months</td>\n",
       "      <td>Yes</td>\n",
       "      <td>28.182033</td>\n",
       "      <td>191.87777851803025</td>\n",
       "      <td>Low_spent_Small_value_payments</td>\n",
       "      <td>216.003938</td>\n",
       "      <td>Poor</td>\n",
       "    </tr>\n",
       "    <tr>\n",
       "      <th>99937</th>\n",
       "      <td>0x25f93</td>\n",
       "      <td>CUS_0xad4f</td>\n",
       "      <td>February</td>\n",
       "      <td>Sabina Zawadzkig</td>\n",
       "      <td>47</td>\n",
       "      <td>226-45-0652</td>\n",
       "      <td>_______</td>\n",
       "      <td>22620.79</td>\n",
       "      <td>1722.065833</td>\n",
       "      <td>7</td>\n",
       "      <td>...</td>\n",
       "      <td>Standard</td>\n",
       "      <td>642.46</td>\n",
       "      <td>31.841872</td>\n",
       "      <td>NaN</td>\n",
       "      <td>No</td>\n",
       "      <td>0.000000</td>\n",
       "      <td>105.07629339039072</td>\n",
       "      <td>Low_spent_Large_value_payments</td>\n",
       "      <td>337.13029</td>\n",
       "      <td>Standard</td>\n",
       "    </tr>\n",
       "    <tr>\n",
       "      <th>99943</th>\n",
       "      <td>0x25f99</td>\n",
       "      <td>CUS_0xad4f</td>\n",
       "      <td>August</td>\n",
       "      <td>Sabina Zawadzkig</td>\n",
       "      <td>48</td>\n",
       "      <td>226-45-0652</td>\n",
       "      <td>_______</td>\n",
       "      <td>22620.79</td>\n",
       "      <td>NaN</td>\n",
       "      <td>6</td>\n",
       "      <td>...</td>\n",
       "      <td>_</td>\n",
       "      <td>642.46</td>\n",
       "      <td>34.026427</td>\n",
       "      <td>29 Years and 10 Months</td>\n",
       "      <td>No</td>\n",
       "      <td>0.000000</td>\n",
       "      <td>205.21728040016708</td>\n",
       "      <td>Low_spent_Small_value_payments</td>\n",
       "      <td>256.989303</td>\n",
       "      <td>Poor</td>\n",
       "    </tr>\n",
       "    <tr>\n",
       "      <th>99989</th>\n",
       "      <td>0x25fdf</td>\n",
       "      <td>CUS_0x8600</td>\n",
       "      <td>June</td>\n",
       "      <td>Sarah McBridec</td>\n",
       "      <td>28</td>\n",
       "      <td>031-35-0942</td>\n",
       "      <td>_______</td>\n",
       "      <td>20002.88</td>\n",
       "      <td>1929.906667</td>\n",
       "      <td>10</td>\n",
       "      <td>...</td>\n",
       "      <td>Bad</td>\n",
       "      <td>3571.7</td>\n",
       "      <td>33.359987</td>\n",
       "      <td>6 Years and 1 Months</td>\n",
       "      <td>Yes</td>\n",
       "      <td>60.964772</td>\n",
       "      <td>74.36660309585342</td>\n",
       "      <td>!@9#%8</td>\n",
       "      <td>307.659291</td>\n",
       "      <td>Standard</td>\n",
       "    </tr>\n",
       "  </tbody>\n",
       "</table>\n",
       "<p>7062 rows × 28 columns</p>\n",
       "</div>"
      ],
      "text/plain": [
       "            ID Customer_ID     Month              Name  Age          SSN  \\\n",
       "8       0x160e  CUS_0x21b1   January   Rick Rothackerj   28  004-07-5839   \n",
       "16      0x161a  CUS_0x2dbc   January            Langep   34  486-85-3974   \n",
       "18      0x161c  CUS_0x2dbc     March            Langep   34  486-85-3974   \n",
       "20      0x161e  CUS_0x2dbc       May            Langep   34  486-85-3974   \n",
       "29      0x162b  CUS_0xb891      June            Jasond   55    #F%$D@*&8   \n",
       "...        ...         ...       ...               ...  ...          ...   \n",
       "99920  0x25f7a  CUS_0x2654   January               enj   37  647-67-8889   \n",
       "99935  0x25f8d  CUS_0xb11c    August    Yinka Adegokej   38  546-94-4789   \n",
       "99937  0x25f93  CUS_0xad4f  February  Sabina Zawadzkig   47  226-45-0652   \n",
       "99943  0x25f99  CUS_0xad4f    August  Sabina Zawadzkig   48  226-45-0652   \n",
       "99989  0x25fdf  CUS_0x8600      June    Sarah McBridec   28  031-35-0942   \n",
       "\n",
       "      Occupation Annual_Income  Monthly_Inhand_Salary  Num_Bank_Accounts  ...  \\\n",
       "8        _______      34847.84            3037.986667                  2  ...   \n",
       "16       _______     143162.64           12187.220000                  1  ...   \n",
       "18       _______     143162.64                    NaN                  1  ...   \n",
       "20       _______     143162.64           12187.220000                  1  ...   \n",
       "29       _______      30689.89            2612.490833                  2  ...   \n",
       "...          ...           ...                    ...                ...  ...   \n",
       "99920    _______     139664.96           11777.746667                  3  ...   \n",
       "99935    _______      15319.65            1460.637500                  6  ...   \n",
       "99937    _______      22620.79            1722.065833                  7  ...   \n",
       "99943    _______      22620.79                    NaN                  6  ...   \n",
       "99989    _______      20002.88            1929.906667                 10  ...   \n",
       "\n",
       "       Credit_Mix  Outstanding_Debt Credit_Utilization_Ratio  \\\n",
       "8            Good            605.03                24.464031   \n",
       "16           Good           1303.01                28.616735   \n",
       "18           Good           1303.01                26.519815   \n",
       "20           Good           1303.01                31.376150   \n",
       "29              _            632.46                27.445422   \n",
       "...           ...               ...                      ...   \n",
       "99920           _            365.66                31.043048   \n",
       "99935         Bad           1453.61                34.557510   \n",
       "99937    Standard            642.46                31.841872   \n",
       "99943           _            642.46                34.026427   \n",
       "99989         Bad            3571.7                33.359987   \n",
       "\n",
       "           Credit_History_Age  Payment_of_Min_Amount Total_EMI_per_month  \\\n",
       "8       26 Years and 7 Months                     No           18.816215   \n",
       "16      17 Years and 9 Months                     No          246.992319   \n",
       "18     17 Years and 11 Months                     No          246.992319   \n",
       "20      18 Years and 1 Months                     No          246.992319   \n",
       "29      17 Years and 8 Months                     No           16.415452   \n",
       "...                       ...                    ...                 ...   \n",
       "99920   29 Years and 7 Months                    Yes          423.731016   \n",
       "99935   11 Years and 4 Months                    Yes           28.182033   \n",
       "99937                     NaN                     No            0.000000   \n",
       "99943  29 Years and 10 Months                     No            0.000000   \n",
       "99989    6 Years and 1 Months                    Yes           60.964772   \n",
       "\n",
       "      Amount_invested_monthly                Payment_Behaviour  \\\n",
       "8            104.291825168246   Low_spent_Small_value_payments   \n",
       "16           168.413702679309                           !@9#%8   \n",
       "18                  __10000__  High_spent_Small_value_payments   \n",
       "20          430.9475278803298   Low_spent_Large_value_payments   \n",
       "29          84.95284817115969  High_spent_Small_value_payments   \n",
       "...                       ...                              ...   \n",
       "99920      282.78234595777644  High_spent_Large_value_payments   \n",
       "99935      191.87777851803025   Low_spent_Small_value_payments   \n",
       "99937      105.07629339039072   Low_spent_Large_value_payments   \n",
       "99943      205.21728040016708   Low_spent_Small_value_payments   \n",
       "99989       74.36660309585342                           !@9#%8   \n",
       "\n",
       "          Monthly_Balance Credit_Score  \n",
       "8      470.69062692529184     Standard  \n",
       "16     1043.3159778669492         Good  \n",
       "18       715.741367403555         Good  \n",
       "20      810.7821526659284         Good  \n",
       "29      419.8807835023488     Standard  \n",
       "...                   ...          ...  \n",
       "99920          711.261305     Standard  \n",
       "99935          216.003938         Poor  \n",
       "99937           337.13029     Standard  \n",
       "99943          256.989303         Poor  \n",
       "99989          307.659291     Standard  \n",
       "\n",
       "[7062 rows x 28 columns]"
      ]
     },
     "execution_count": 23,
     "metadata": {},
     "output_type": "execute_result"
    }
   ],
   "source": [
    "print(credit_df['Occupation'].isnull().sum())\n",
    "credit_df[credit_df['Occupation'] == '_______']"
   ]
  },
  {
   "cell_type": "code",
   "execution_count": 24,
   "metadata": {
    "colab": {
     "base_uri": "https://localhost:8080/"
    },
    "id": "DwFPhjAVxLR7",
    "outputId": "a2e2e817-eec3-4cf6-fc60-9265815a0a4d"
   },
   "outputs": [
    {
     "data": {
      "text/plain": [
       "200    Entrepreneur\n",
       "201         _______\n",
       "202         _______\n",
       "203    Entrepreneur\n",
       "204    Entrepreneur\n",
       "205    Entrepreneur\n",
       "206    Entrepreneur\n",
       "207    Entrepreneur\n",
       "Name: Occupation, dtype: object"
      ]
     },
     "execution_count": 24,
     "metadata": {},
     "output_type": "execute_result"
    }
   ],
   "source": [
    "credit_df[credit_df['Customer_ID'] == 'CUS_0x4d43']['Occupation']"
   ]
  },
  {
   "cell_type": "code",
   "execution_count": 25,
   "metadata": {
    "id": "E7CatBBpxLUn"
   },
   "outputs": [],
   "source": [
    "empty_occupations = credit_df[credit_df['Occupation']== '_______']['Customer_ID'].values\n",
    "for id in empty_occupations:\n",
    "  occupation = credit_df[credit_df['Customer_ID'] ==id]['Occupation'].drop_duplicates().values[0]\n",
    "  if occupation == '_______':\n",
    "    occupation = credit_df[credit_df['Customer_ID'] ==id]['Occupation'].drop_duplicates().values[1]\n",
    "  credit_df.loc[(credit_df['Customer_ID'] == id) & (credit_df['Occupation'] == '_______'), ['Occupation']] = occupation"
   ]
  },
  {
   "cell_type": "code",
   "execution_count": 26,
   "metadata": {
    "colab": {
     "base_uri": "https://localhost:8080/"
    },
    "id": "EeGk6CV1xLXa",
    "outputId": "7b535d6f-a188-4a18-8ca9-22a73610114b"
   },
   "outputs": [
    {
     "data": {
      "text/plain": [
       "200    Entrepreneur\n",
       "201    Entrepreneur\n",
       "202    Entrepreneur\n",
       "203    Entrepreneur\n",
       "204    Entrepreneur\n",
       "205    Entrepreneur\n",
       "206    Entrepreneur\n",
       "207    Entrepreneur\n",
       "Name: Occupation, dtype: object"
      ]
     },
     "execution_count": 26,
     "metadata": {},
     "output_type": "execute_result"
    }
   ],
   "source": [
    "credit_df[credit_df['Customer_ID'] == 'CUS_0x4d43']['Occupation']"
   ]
  },
  {
   "cell_type": "markdown",
   "metadata": {
    "id": "lDyScR2mZ9PE"
   },
   "source": [
    "Remove any additional characters in the annual_income field\n",
    "i.e. '_', convert annual_income field to type float, replcae annual_income outliers by using the correct annual income from the corresponding customer_id"
   ]
  },
  {
   "cell_type": "code",
   "execution_count": 35,
   "metadata": {
    "id": "bWAmvbXZxLaF"
   },
   "outputs": [],
   "source": [
    "credit_df['Annual_Income'] = [str(val).replace('_', '') for val in credit_df['Annual_Income']]\n",
    "credit_df['Annual_Income'] = credit_df['Annual_Income'].astype(float)"
   ]
  },
  {
   "cell_type": "code",
   "execution_count": 39,
   "metadata": {},
   "outputs": [
    {
     "data": {
      "image/png": "[encoded data removed]",
      "text/plain": [
       "<Figure size 640x480 with 1 Axes>"
      ]
     },
     "metadata": {},
     "output_type": "display_data"
    }
   ],
   "source": [
    "plt.boxplot(credit_df['Annual_Income'])\n",
    "plt.show()"
   ]
  },
  {
   "cell_type": "code",
   "execution_count": 40,
   "metadata": {
    "colab": {
     "base_uri": "https://localhost:8080/"
    },
    "id": "Odfxfc31xLcf",
    "outputId": "0edacbca-d26d-45e9-9670-57129c9c745f"
   },
   "outputs": [
    {
     "data": {
      "text/plain": [
       "Series([], Name: Customer_ID, dtype: object)"
      ]
     },
     "execution_count": 40,
     "metadata": {},
     "output_type": "execute_result"
    }
   ],
   "source": [
    "#credit_df.nlargest(5000, ['Annual_Income'])['Customer_ID']\n",
    "credit_df[credit_df['Annual_Income'] > 500000]['Customer_ID']\n",
    "credit_df[credit_df['Annual_Income'] < 5000]['Customer_ID']"
   ]
  },
  {
   "cell_type": "code",
   "execution_count": 41,
   "metadata": {
    "id": "_e5dBAbAxLfK"
   },
   "outputs": [],
   "source": [
    "outlier_salary = credit_df[credit_df['Annual_Income']> 100000]['Customer_ID'].values\n",
    "for id in outlier_salary:\n",
    "    income = credit_df[credit_df['Customer_ID'] ==id]['Annual_Income'].min()\n",
    "    credit_df.loc[(credit_df['Customer_ID'] ==id) &\n",
    "              (credit_df['Annual_Income']> 100000), ['Annual_Income']] = income"
   ]
  },
  {
   "cell_type": "code",
   "execution_count": null,
   "metadata": {},
   "outputs": [],
   "source": []
  },
  {
   "cell_type": "code",
   "execution_count": 46,
   "metadata": {
    "colab": {
     "base_uri": "https://localhost:8080/"
    },
    "id": "zWBQiveiHIt-",
    "outputId": "b4c29370-0a10-4d0d-a213-8036d582a436",
    "scrolled": false
   },
   "outputs": [
    {
     "data": {
      "text/plain": [
       "48    131313.4\n",
       "49    131313.4\n",
       "50    131313.4\n",
       "51    131313.4\n",
       "52    131313.4\n",
       "53    131313.4\n",
       "54    131313.4\n",
       "55    131313.4\n",
       "Name: Annual_Income, dtype: float64"
      ]
     },
     "execution_count": 46,
     "metadata": {},
     "output_type": "execute_result"
    }
   ],
   "source": [
    "credit_df[credit_df['Customer_ID'] == 'CUS_0x284a']['Annual_Income']"
   ]
  },
  {
   "cell_type": "code",
   "execution_count": 45,
   "metadata": {},
   "outputs": [
    {
     "data": {
      "image/png": "[encoded data removed]",
      "text/plain": [
       "<Figure size 640x480 with 1 Axes>"
      ]
     },
     "metadata": {},
     "output_type": "display_data"
    }
   ],
   "source": [
    "plt.boxplot(credit_df['Annual_Income'])\n",
    "plt.show()"
   ]
  },
  {
   "cell_type": "markdown",
   "metadata": {
    "id": "7JPXExgPbdNm"
   },
   "source": [
    "Replace null values with the correct monthly salary by looking up the corresponding customer_id"
   ]
  },
  {
   "cell_type": "code",
   "execution_count": 48,
   "metadata": {
    "colab": {
     "base_uri": "https://localhost:8080/"
    },
    "id": "eKLhrLZ2xLh1",
    "outputId": "d0c7ff2c-38aa-4c7e-840e-d31fc0e8794e"
   },
   "outputs": [
    {
     "name": "stdout",
     "output_type": "stream",
     "text": [
      "Null monthly salary count =  15002\n"
     ]
    }
   ],
   "source": [
    "print('Null monthly salary count = ',credit_df['Monthly_Inhand_Salary'].isnull().sum())\n",
    "credit_df['Monthly_Inhand_Salary'].replace(np.nan, -1.0, inplace=True)\n",
    "null_msalary = credit_df[credit_df['Monthly_Inhand_Salary']==-1.0]['Customer_ID'].values\n",
    "for id in null_msalary:\n",
    "    salary = credit_df[credit_df['Customer_ID'] == id]['Monthly_Inhand_Salary'].drop_duplicates().values[0]\n",
    "  #salary=credit_df[credit_df['Customer_ID'] ==\n",
    "   #               id]['Monthly_Inhand_Salary'].drop_duplicates().sort_values().values[-1]\n",
    "    if salary == -1.0:\n",
    "        salary = credit_df[credit_df['Customer_ID'] == id]['Monthly_Inhand_Salary'].drop_duplicates().values[1]\n",
    "    credit_df.loc[(credit_df['Customer_ID'] == id) & (credit_df['Monthly_Inhand_Salary'] == -1.0), ['Monthly_Inhand_Salary']] = salary"
   ]
  },
  {
   "cell_type": "code",
   "execution_count": 49,
   "metadata": {
    "colab": {
     "base_uri": "https://localhost:8080/"
    },
    "id": "cCz5bT3ZxLkf",
    "outputId": "13501788-ff52-409f-c606-bea2ee76c1de"
   },
   "outputs": [
    {
     "data": {
      "text/plain": [
       "0    1824.843333\n",
       "1    1824.843333\n",
       "2    1824.843333\n",
       "3    1824.843333\n",
       "4    1824.843333\n",
       "5    1824.843333\n",
       "6    1824.843333\n",
       "7    1824.843333\n",
       "Name: Monthly_Inhand_Salary, dtype: float64"
      ]
     },
     "execution_count": 49,
     "metadata": {},
     "output_type": "execute_result"
    }
   ],
   "source": [
    "credit_df[credit_df['Customer_ID'] == 'CUS_0xd40']['Monthly_Inhand_Salary']"
   ]
  },
  {
   "cell_type": "code",
   "execution_count": 50,
   "metadata": {
    "colab": {
     "base_uri": "https://localhost:8080/"
    },
    "id": "DtKdydsQZGRv",
    "outputId": "0584582b-de41-493e-ab66-75266fc52d69"
   },
   "outputs": [
    {
     "name": "stdout",
     "output_type": "stream",
     "text": [
      "Null monthly salary count =  0\n",
      "0\n"
     ]
    }
   ],
   "source": [
    "print('Null monthly salary count = ',credit_df['Monthly_Inhand_Salary'].isnull().sum())\n",
    "print(credit_df[credit_df['Monthly_Inhand_Salary'] == -1.0].size)"
   ]
  },
  {
   "cell_type": "markdown",
   "metadata": {
    "id": "yYWEEmp9b5EN"
   },
   "source": [
    "Replace abnormal bank account values with the correct value for the applicant by looking up corresponding customer_id"
   ]
  },
  {
   "cell_type": "code",
   "execution_count": 64,
   "metadata": {},
   "outputs": [
    {
     "data": {
      "text/plain": [
       "24779"
      ]
     },
     "execution_count": 64,
     "metadata": {},
     "output_type": "execute_result"
    }
   ],
   "source": [
    "len(credit_df[(credit_df['Num_Bank_Accounts'] > 7)])"
   ]
  },
  {
   "cell_type": "code",
   "execution_count": 60,
   "metadata": {},
   "outputs": [
    {
     "data": {
      "text/plain": [
       "21"
      ]
     },
     "execution_count": 60,
     "metadata": {},
     "output_type": "execute_result"
    }
   ],
   "source": [
    "len(credit_df[(credit_df['Num_Bank_Accounts'] < 0)])"
   ]
  },
  {
   "cell_type": "code",
   "execution_count": 70,
   "metadata": {
    "colab": {
     "base_uri": "https://localhost:8080/",
     "height": 530
    },
    "id": "hyJYjcPqZGUc",
    "outputId": "36f07670-fe5e-4fda-c16b-2b5db53826ad"
   },
   "outputs": [
    {
     "data": {
      "text/html": [
       "<div>\n",
       "<style scoped>\n",
       "    .dataframe tbody tr th:only-of-type {\n",
       "        vertical-align: middle;\n",
       "    }\n",
       "\n",
       "    .dataframe tbody tr th {\n",
       "        vertical-align: top;\n",
       "    }\n",
       "\n",
       "    .dataframe thead th {\n",
       "        text-align: right;\n",
       "    }\n",
       "</style>\n",
       "<table border=\"1\" class=\"dataframe\">\n",
       "  <thead>\n",
       "    <tr style=\"text-align: right;\">\n",
       "      <th></th>\n",
       "      <th>ID</th>\n",
       "      <th>Customer_ID</th>\n",
       "      <th>Month</th>\n",
       "      <th>Name</th>\n",
       "      <th>Age</th>\n",
       "      <th>SSN</th>\n",
       "      <th>Occupation</th>\n",
       "      <th>Annual_Income</th>\n",
       "      <th>Monthly_Inhand_Salary</th>\n",
       "      <th>Num_Bank_Accounts</th>\n",
       "      <th>...</th>\n",
       "      <th>Credit_Mix</th>\n",
       "      <th>Outstanding_Debt</th>\n",
       "      <th>Credit_Utilization_Ratio</th>\n",
       "      <th>Credit_History_Age</th>\n",
       "      <th>Payment_of_Min_Amount</th>\n",
       "      <th>Total_EMI_per_month</th>\n",
       "      <th>Amount_invested_monthly</th>\n",
       "      <th>Payment_Behaviour</th>\n",
       "      <th>Monthly_Balance</th>\n",
       "      <th>Credit_Score</th>\n",
       "    </tr>\n",
       "  </thead>\n",
       "  <tbody>\n",
       "    <tr>\n",
       "      <th>56</th>\n",
       "      <td>0x1656</td>\n",
       "      <td>CUS_0x5407</td>\n",
       "      <td>January</td>\n",
       "      <td>Annk</td>\n",
       "      <td>30</td>\n",
       "      <td>500-92-6408</td>\n",
       "      <td>Media_Manager</td>\n",
       "      <td>34081.38</td>\n",
       "      <td>2611.115000</td>\n",
       "      <td>8</td>\n",
       "      <td>...</td>\n",
       "      <td>Standard</td>\n",
       "      <td>1704.18</td>\n",
       "      <td>24.448063</td>\n",
       "      <td>NaN</td>\n",
       "      <td>NM</td>\n",
       "      <td>70.478333</td>\n",
       "      <td>162.4410091967751</td>\n",
       "      <td>Low_spent_Large_value_payments</td>\n",
       "      <td>298.19215813115227</td>\n",
       "      <td>Poor</td>\n",
       "    </tr>\n",
       "    <tr>\n",
       "      <th>57</th>\n",
       "      <td>0x1657</td>\n",
       "      <td>CUS_0x5407</td>\n",
       "      <td>February</td>\n",
       "      <td>Annk</td>\n",
       "      <td>30</td>\n",
       "      <td>500-92-6408</td>\n",
       "      <td>Media_Manager</td>\n",
       "      <td>34081.38</td>\n",
       "      <td>2611.115000</td>\n",
       "      <td>8</td>\n",
       "      <td>...</td>\n",
       "      <td>_</td>\n",
       "      <td>1704.18</td>\n",
       "      <td>35.171160</td>\n",
       "      <td>14 Years and 8 Months</td>\n",
       "      <td>Yes</td>\n",
       "      <td>70.478333</td>\n",
       "      <td>38.4369827577036</td>\n",
       "      <td>High_spent_Large_value_payments</td>\n",
       "      <td>392.19618457022375</td>\n",
       "      <td>Poor</td>\n",
       "    </tr>\n",
       "    <tr>\n",
       "      <th>58</th>\n",
       "      <td>0x1658</td>\n",
       "      <td>CUS_0x5407</td>\n",
       "      <td>March</td>\n",
       "      <td>Annk</td>\n",
       "      <td>30</td>\n",
       "      <td>500-92-6408</td>\n",
       "      <td>Media_Manager</td>\n",
       "      <td>34081.38</td>\n",
       "      <td>2611.115000</td>\n",
       "      <td>8</td>\n",
       "      <td>...</td>\n",
       "      <td>Standard</td>\n",
       "      <td>1704.18</td>\n",
       "      <td>35.111552</td>\n",
       "      <td>14 Years and 9 Months</td>\n",
       "      <td>Yes</td>\n",
       "      <td>70.478333</td>\n",
       "      <td>199.7207654954979</td>\n",
       "      <td>Low_spent_Large_value_payments</td>\n",
       "      <td>260.9124018324295</td>\n",
       "      <td>Poor</td>\n",
       "    </tr>\n",
       "    <tr>\n",
       "      <th>59</th>\n",
       "      <td>0x1659</td>\n",
       "      <td>CUS_0x5407</td>\n",
       "      <td>April</td>\n",
       "      <td>Annk</td>\n",
       "      <td>30</td>\n",
       "      <td>500-92-6408</td>\n",
       "      <td>Media_Manager</td>\n",
       "      <td>34081.38</td>\n",
       "      <td>2611.115000</td>\n",
       "      <td>8</td>\n",
       "      <td>...</td>\n",
       "      <td>_</td>\n",
       "      <td>1704.18</td>\n",
       "      <td>29.762159</td>\n",
       "      <td>14 Years and 10 Months</td>\n",
       "      <td>Yes</td>\n",
       "      <td>70.478333</td>\n",
       "      <td>220.55219192916718</td>\n",
       "      <td>Low_spent_Small_value_payments</td>\n",
       "      <td>260.0809753987602</td>\n",
       "      <td>Poor</td>\n",
       "    </tr>\n",
       "    <tr>\n",
       "      <th>60</th>\n",
       "      <td>0x165a</td>\n",
       "      <td>CUS_0x5407</td>\n",
       "      <td>May</td>\n",
       "      <td>Annk</td>\n",
       "      <td>30</td>\n",
       "      <td>500-92-6408</td>\n",
       "      <td>Media_Manager</td>\n",
       "      <td>34081.38</td>\n",
       "      <td>2611.115000</td>\n",
       "      <td>8</td>\n",
       "      <td>...</td>\n",
       "      <td>_</td>\n",
       "      <td>1704.18</td>\n",
       "      <td>30.206214</td>\n",
       "      <td>14 Years and 11 Months</td>\n",
       "      <td>Yes</td>\n",
       "      <td>70.478333</td>\n",
       "      <td>NaN</td>\n",
       "      <td>High_spent_Large_value_payments</td>\n",
       "      <td>397.2283547370202</td>\n",
       "      <td>Standard</td>\n",
       "    </tr>\n",
       "    <tr>\n",
       "      <th>...</th>\n",
       "      <td>...</td>\n",
       "      <td>...</td>\n",
       "      <td>...</td>\n",
       "      <td>...</td>\n",
       "      <td>...</td>\n",
       "      <td>...</td>\n",
       "      <td>...</td>\n",
       "      <td>...</td>\n",
       "      <td>...</td>\n",
       "      <td>...</td>\n",
       "      <td>...</td>\n",
       "      <td>...</td>\n",
       "      <td>...</td>\n",
       "      <td>...</td>\n",
       "      <td>...</td>\n",
       "      <td>...</td>\n",
       "      <td>...</td>\n",
       "      <td>...</td>\n",
       "      <td>...</td>\n",
       "      <td>...</td>\n",
       "      <td>...</td>\n",
       "    </tr>\n",
       "    <tr>\n",
       "      <th>99987</th>\n",
       "      <td>0x25fdd</td>\n",
       "      <td>CUS_0x8600</td>\n",
       "      <td>April</td>\n",
       "      <td>Sarah McBridec</td>\n",
       "      <td>28</td>\n",
       "      <td>031-35-0942</td>\n",
       "      <td>Architect</td>\n",
       "      <td>20002.88</td>\n",
       "      <td>1929.906667</td>\n",
       "      <td>10</td>\n",
       "      <td>...</td>\n",
       "      <td>_</td>\n",
       "      <td>3571.7</td>\n",
       "      <td>30.614953</td>\n",
       "      <td>5 Years and 11 Months</td>\n",
       "      <td>Yes</td>\n",
       "      <td>60.964772</td>\n",
       "      <td>43.72461709437765</td>\n",
       "      <td>High_spent_Large_value_payments</td>\n",
       "      <td>328.301277</td>\n",
       "      <td>Standard</td>\n",
       "    </tr>\n",
       "    <tr>\n",
       "      <th>99988</th>\n",
       "      <td>0x25fde</td>\n",
       "      <td>CUS_0x8600</td>\n",
       "      <td>May</td>\n",
       "      <td>Sarah McBridec</td>\n",
       "      <td>28</td>\n",
       "      <td>#F%$D@*&amp;8</td>\n",
       "      <td>Architect</td>\n",
       "      <td>20002.88</td>\n",
       "      <td>1929.906667</td>\n",
       "      <td>10</td>\n",
       "      <td>...</td>\n",
       "      <td>_</td>\n",
       "      <td>3571.7</td>\n",
       "      <td>28.508250</td>\n",
       "      <td>6 Years and 0 Months</td>\n",
       "      <td>Yes</td>\n",
       "      <td>60.964772</td>\n",
       "      <td>213.97800979403817</td>\n",
       "      <td>Low_spent_Small_value_payments</td>\n",
       "      <td>208.047884</td>\n",
       "      <td>Standard</td>\n",
       "    </tr>\n",
       "    <tr>\n",
       "      <th>99989</th>\n",
       "      <td>0x25fdf</td>\n",
       "      <td>CUS_0x8600</td>\n",
       "      <td>June</td>\n",
       "      <td>Sarah McBridec</td>\n",
       "      <td>28</td>\n",
       "      <td>031-35-0942</td>\n",
       "      <td>Architect</td>\n",
       "      <td>20002.88</td>\n",
       "      <td>1929.906667</td>\n",
       "      <td>10</td>\n",
       "      <td>...</td>\n",
       "      <td>Bad</td>\n",
       "      <td>3571.7</td>\n",
       "      <td>33.359987</td>\n",
       "      <td>6 Years and 1 Months</td>\n",
       "      <td>Yes</td>\n",
       "      <td>60.964772</td>\n",
       "      <td>74.36660309585342</td>\n",
       "      <td>!@9#%8</td>\n",
       "      <td>307.659291</td>\n",
       "      <td>Standard</td>\n",
       "    </tr>\n",
       "    <tr>\n",
       "      <th>99990</th>\n",
       "      <td>0x25fe0</td>\n",
       "      <td>CUS_0x8600</td>\n",
       "      <td>July</td>\n",
       "      <td>Sarah McBridec</td>\n",
       "      <td>28</td>\n",
       "      <td>031-35-0942</td>\n",
       "      <td>Architect</td>\n",
       "      <td>20002.88</td>\n",
       "      <td>1929.906667</td>\n",
       "      <td>10</td>\n",
       "      <td>...</td>\n",
       "      <td>Bad</td>\n",
       "      <td>3571.7</td>\n",
       "      <td>25.123535</td>\n",
       "      <td>NaN</td>\n",
       "      <td>Yes</td>\n",
       "      <td>60.964772</td>\n",
       "      <td>173.2755025599617</td>\n",
       "      <td>Low_spent_Large_value_payments</td>\n",
       "      <td>228.750392</td>\n",
       "      <td>Standard</td>\n",
       "    </tr>\n",
       "    <tr>\n",
       "      <th>99991</th>\n",
       "      <td>0x25fe1</td>\n",
       "      <td>CUS_0x8600</td>\n",
       "      <td>August</td>\n",
       "      <td>Sarah McBridec</td>\n",
       "      <td>29</td>\n",
       "      <td>031-35-0942</td>\n",
       "      <td>Architect</td>\n",
       "      <td>20002.88</td>\n",
       "      <td>1929.906667</td>\n",
       "      <td>10</td>\n",
       "      <td>...</td>\n",
       "      <td>Bad</td>\n",
       "      <td>3571.7</td>\n",
       "      <td>37.140784</td>\n",
       "      <td>6 Years and 3 Months</td>\n",
       "      <td>Yes</td>\n",
       "      <td>60.964772</td>\n",
       "      <td>34.66290609052614</td>\n",
       "      <td>High_spent_Large_value_payments</td>\n",
       "      <td>337.362988</td>\n",
       "      <td>Standard</td>\n",
       "    </tr>\n",
       "  </tbody>\n",
       "</table>\n",
       "<p>24800 rows × 28 columns</p>\n",
       "</div>"
      ],
      "text/plain": [
       "            ID Customer_ID     Month            Name  Age          SSN  \\\n",
       "56      0x1656  CUS_0x5407   January            Annk   30  500-92-6408   \n",
       "57      0x1657  CUS_0x5407  February            Annk   30  500-92-6408   \n",
       "58      0x1658  CUS_0x5407     March            Annk   30  500-92-6408   \n",
       "59      0x1659  CUS_0x5407     April            Annk   30  500-92-6408   \n",
       "60      0x165a  CUS_0x5407       May            Annk   30  500-92-6408   \n",
       "...        ...         ...       ...             ...  ...          ...   \n",
       "99987  0x25fdd  CUS_0x8600     April  Sarah McBridec   28  031-35-0942   \n",
       "99988  0x25fde  CUS_0x8600       May  Sarah McBridec   28    #F%$D@*&8   \n",
       "99989  0x25fdf  CUS_0x8600      June  Sarah McBridec   28  031-35-0942   \n",
       "99990  0x25fe0  CUS_0x8600      July  Sarah McBridec   28  031-35-0942   \n",
       "99991  0x25fe1  CUS_0x8600    August  Sarah McBridec   29  031-35-0942   \n",
       "\n",
       "          Occupation  Annual_Income  Monthly_Inhand_Salary  Num_Bank_Accounts  \\\n",
       "56     Media_Manager       34081.38            2611.115000                  8   \n",
       "57     Media_Manager       34081.38            2611.115000                  8   \n",
       "58     Media_Manager       34081.38            2611.115000                  8   \n",
       "59     Media_Manager       34081.38            2611.115000                  8   \n",
       "60     Media_Manager       34081.38            2611.115000                  8   \n",
       "...              ...            ...                    ...                ...   \n",
       "99987      Architect       20002.88            1929.906667                 10   \n",
       "99988      Architect       20002.88            1929.906667                 10   \n",
       "99989      Architect       20002.88            1929.906667                 10   \n",
       "99990      Architect       20002.88            1929.906667                 10   \n",
       "99991      Architect       20002.88            1929.906667                 10   \n",
       "\n",
       "       ...  Credit_Mix  Outstanding_Debt Credit_Utilization_Ratio  \\\n",
       "56     ...    Standard           1704.18                24.448063   \n",
       "57     ...           _           1704.18                35.171160   \n",
       "58     ...    Standard           1704.18                35.111552   \n",
       "59     ...           _           1704.18                29.762159   \n",
       "60     ...           _           1704.18                30.206214   \n",
       "...    ...         ...               ...                      ...   \n",
       "99987  ...           _            3571.7                30.614953   \n",
       "99988  ...           _            3571.7                28.508250   \n",
       "99989  ...         Bad            3571.7                33.359987   \n",
       "99990  ...         Bad            3571.7                25.123535   \n",
       "99991  ...         Bad            3571.7                37.140784   \n",
       "\n",
       "           Credit_History_Age  Payment_of_Min_Amount Total_EMI_per_month  \\\n",
       "56                        NaN                     NM           70.478333   \n",
       "57      14 Years and 8 Months                    Yes           70.478333   \n",
       "58      14 Years and 9 Months                    Yes           70.478333   \n",
       "59     14 Years and 10 Months                    Yes           70.478333   \n",
       "60     14 Years and 11 Months                    Yes           70.478333   \n",
       "...                       ...                    ...                 ...   \n",
       "99987   5 Years and 11 Months                    Yes           60.964772   \n",
       "99988    6 Years and 0 Months                    Yes           60.964772   \n",
       "99989    6 Years and 1 Months                    Yes           60.964772   \n",
       "99990                     NaN                    Yes           60.964772   \n",
       "99991    6 Years and 3 Months                    Yes           60.964772   \n",
       "\n",
       "      Amount_invested_monthly                Payment_Behaviour  \\\n",
       "56          162.4410091967751   Low_spent_Large_value_payments   \n",
       "57           38.4369827577036  High_spent_Large_value_payments   \n",
       "58          199.7207654954979   Low_spent_Large_value_payments   \n",
       "59         220.55219192916718   Low_spent_Small_value_payments   \n",
       "60                        NaN  High_spent_Large_value_payments   \n",
       "...                       ...                              ...   \n",
       "99987       43.72461709437765  High_spent_Large_value_payments   \n",
       "99988      213.97800979403817   Low_spent_Small_value_payments   \n",
       "99989       74.36660309585342                           !@9#%8   \n",
       "99990       173.2755025599617   Low_spent_Large_value_payments   \n",
       "99991       34.66290609052614  High_spent_Large_value_payments   \n",
       "\n",
       "          Monthly_Balance Credit_Score  \n",
       "56     298.19215813115227         Poor  \n",
       "57     392.19618457022375         Poor  \n",
       "58      260.9124018324295         Poor  \n",
       "59      260.0809753987602         Poor  \n",
       "60      397.2283547370202     Standard  \n",
       "...                   ...          ...  \n",
       "99987          328.301277     Standard  \n",
       "99988          208.047884     Standard  \n",
       "99989          307.659291     Standard  \n",
       "99990          228.750392     Standard  \n",
       "99991          337.362988     Standard  \n",
       "\n",
       "[24800 rows x 28 columns]"
      ]
     },
     "execution_count": 70,
     "metadata": {},
     "output_type": "execute_result"
    }
   ],
   "source": [
    "credit_df[(credit_df['Num_Bank_Accounts'] > 7) |\n",
    "        (credit_df['Num_Bank_Accounts'] < 0)]"
   ]
  },
  {
   "cell_type": "code",
   "execution_count": 71,
   "metadata": {
    "id": "jYQcCDmoTaH5"
   },
   "outputs": [],
   "source": [
    "abnormal_accounts = credit_df[(credit_df['Num_Bank_Accounts'] > 7) |(credit_df['Num_Bank_Accounts'] < 0)]['Customer_ID'].values\n",
    "\n",
    "for id in abnormal_accounts:\n",
    "    numAccounts = credit_df[credit_df['Customer_ID'] == id]['Num_Bank_Accounts'].drop_duplicates().values[0]\n",
    "    if numAccounts < 0 or numAccounts > 11:\n",
    "        numAccounts = credit_df[credit_df['Customer_ID'] == id]['Num_Bank_Accounts'].drop_duplicates().values[1]\n",
    "    credit_df.loc[(credit_df['Customer_ID'] == id) & (\n",
    "        (credit_df['Num_Bank_Accounts'] < 0) | (credit_df['Num_Bank_Accounts'] > 11)), ['Num_Bank_Accounts']] = numAccounts"
   ]
  },
  {
   "cell_type": "code",
   "execution_count": 74,
   "metadata": {},
   "outputs": [
    {
     "data": {
      "text/plain": [
       "264    8\n",
       "265    8\n",
       "266    8\n",
       "267    8\n",
       "268    8\n",
       "269    8\n",
       "270    8\n",
       "271    8\n",
       "Name: Num_Bank_Accounts, dtype: int64"
      ]
     },
     "execution_count": 74,
     "metadata": {},
     "output_type": "execute_result"
    }
   ],
   "source": [
    "credit_df[credit_df['Customer_ID'] == 'CUS_0x4004']['Num_Bank_Accounts']"
   ]
  },
  {
   "cell_type": "code",
   "execution_count": 75,
   "metadata": {
    "colab": {
     "base_uri": "https://localhost:8080/"
    },
    "id": "95YwO8doUjYX",
    "outputId": "199ce710-b543-4e21-f2e6-595e66915f33"
   },
   "outputs": [
    {
     "data": {
      "text/plain": [
       "20256    10\n",
       "20257    10\n",
       "20258    10\n",
       "20259    10\n",
       "20260    10\n",
       "20261    10\n",
       "20262    10\n",
       "20263    10\n",
       "Name: Num_Bank_Accounts, dtype: int64"
      ]
     },
     "execution_count": 75,
     "metadata": {},
     "output_type": "execute_result"
    }
   ],
   "source": [
    "credit_df[credit_df['Customer_ID'] == 'CUS_0x96ca']['Num_Bank_Accounts']"
   ]
  },
  {
   "cell_type": "code",
   "execution_count": 76,
   "metadata": {
    "colab": {
     "base_uri": "https://localhost:8080/"
    },
    "id": "lvB9ieVegCnb",
    "outputId": "cfd83fe5-debd-4e06-8b41-bfca5cbfd265"
   },
   "outputs": [
    {
     "name": "stdout",
     "output_type": "stream",
     "text": [
      "Null credit card count =  0\n"
     ]
    }
   ],
   "source": [
    "print('Null credit card count = ',credit_df['Num_Credit_Card'].isnull().sum())"
   ]
  },
  {
   "cell_type": "code",
   "execution_count": 77,
   "metadata": {
    "id": "A9wiv_JwgX0n"
   },
   "outputs": [],
   "source": [
    "credit_df['Num_Credit_Card'] = [str(val).replace('_', '') for val in credit_df['Num_Credit_Card']]\n",
    "credit_df['Num_Credit_Card'] = credit_df['Num_Credit_Card'].astype(int)"
   ]
  },
  {
   "cell_type": "code",
   "execution_count": 78,
   "metadata": {
    "colab": {
     "base_uri": "https://localhost:8080/"
    },
    "id": "QcNWOPYeg9td",
    "outputId": "37b163e2-7fe0-4a1c-ef9e-8c5f35a0ae03"
   },
   "outputs": [
    {
     "name": "stdout",
     "output_type": "stream",
     "text": [
      "0\n"
     ]
    },
    {
     "data": {
      "text/plain": [
       "152       7\n",
       "153       7\n",
       "154       7\n",
       "155       7\n",
       "156       7\n",
       "157    1029\n",
       "158       7\n",
       "159       7\n",
       "Name: Num_Credit_Card, dtype: int64"
      ]
     },
     "execution_count": 78,
     "metadata": {},
     "output_type": "execute_result"
    }
   ],
   "source": [
    "#credit_df[(credit_df['Num_of_Loan'] > 10) |(credit_df['Num_of_Loan'] <= 0)]\n",
    "print(credit_df[credit_df['Num_Credit_Card'] < 0].size)\n",
    "credit_df[credit_df['Customer_ID'] == 'CUS_0x4100']['Num_Credit_Card']"
   ]
  },
  {
   "cell_type": "code",
   "execution_count": 79,
   "metadata": {
    "id": "lKQ1t1iMkXa-"
   },
   "outputs": [],
   "source": [
    "abnormal_cc = credit_df[credit_df['Num_Credit_Card'] > 7]['Customer_ID'].values\n",
    "#print(abnormal_cc.size)\n",
    "for id in abnormal_cc:\n",
    "    #print(credit_df[credit_df['Customer_ID'] == id]['Num_Credit_Card'])\n",
    "    cc = credit_df[credit_df['Customer_ID'] == id]['Num_Credit_Card'].drop_duplicates().values[0]\n",
    "    if cc > 15:\n",
    "        cc = credit_df[credit_df['Customer_ID'] == id]['Num_Credit_Card'].drop_duplicates().values[1]\n",
    "    credit_df.loc[(credit_df['Customer_ID'] == id) & (\n",
    "        (credit_df['Num_Credit_Card'] < 0) | (credit_df['Num_Credit_Card'] > 11)), ['Num_Credit_Card']] = cc"
   ]
  },
  {
   "cell_type": "code",
   "execution_count": 80,
   "metadata": {
    "colab": {
     "base_uri": "https://localhost:8080/"
    },
    "id": "dZcQ46n8nNrf",
    "outputId": "cb818ac3-adb4-4b05-fed1-dc80f2fc02dd"
   },
   "outputs": [
    {
     "data": {
      "text/plain": [
       "336    3\n",
       "337    3\n",
       "338    3\n",
       "339    3\n",
       "340    3\n",
       "341    3\n",
       "342    3\n",
       "343    3\n",
       "Name: Num_Credit_Card, dtype: int64"
      ]
     },
     "execution_count": 80,
     "metadata": {},
     "output_type": "execute_result"
    }
   ],
   "source": [
    "credit_df[credit_df['Customer_ID'] == 'CUS_0x9bc1']['Num_Credit_Card']"
   ]
  },
  {
   "cell_type": "code",
   "execution_count": 81,
   "metadata": {
    "id": "7x_8DcalsQYd"
   },
   "outputs": [],
   "source": [
    "credit_df['Interest_Rate'] = [str(val).replace('_', '') for val in credit_df['Interest_Rate']]\n",
    "credit_df['Interest_Rate'] = credit_df['Interest_Rate'].astype(int)"
   ]
  },
  {
   "cell_type": "code",
   "execution_count": 82,
   "metadata": {
    "colab": {
     "base_uri": "https://localhost:8080/"
    },
    "id": "Nf53OThqsnEU",
    "outputId": "943fcb60-d2b2-43f1-fbe0-05d95e350954"
   },
   "outputs": [
    {
     "name": "stdout",
     "output_type": "stream",
     "text": [
      "0\n",
      "Null interest rate count =  0\n"
     ]
    }
   ],
   "source": [
    "print(credit_df[credit_df['Interest_Rate'] <= 0].size)\n",
    "print('Null interest rate count = ',credit_df['Interest_Rate'].isnull().sum())"
   ]
  },
  {
   "cell_type": "code",
   "execution_count": 83,
   "metadata": {
    "colab": {
     "base_uri": "https://localhost:8080/"
    },
    "id": "XXbcJc-cukg5",
    "outputId": "d68fbc1d-5c6b-4c7c-eddd-5124a617e155"
   },
   "outputs": [
    {
     "data": {
      "text/plain": [
       "2712       5\n",
       "2713       5\n",
       "2714       5\n",
       "2715    2197\n",
       "2716       5\n",
       "2717       5\n",
       "2718       5\n",
       "2719    2701\n",
       "Name: Interest_Rate, dtype: int64"
      ]
     },
     "execution_count": 83,
     "metadata": {},
     "output_type": "execute_result"
    }
   ],
   "source": [
    "credit_df[credit_df['Customer_ID'] == 'CUS_0x56c5']['Interest_Rate']\n",
    "credit_df[credit_df['Customer_ID'] == 'CUS_0xc365']['Interest_Rate']\n"
   ]
  },
  {
   "cell_type": "code",
   "execution_count": 84,
   "metadata": {
    "colab": {
     "base_uri": "https://localhost:8080/"
    },
    "id": "CgCS0SYovSXu",
    "outputId": "afabaa25-cb50-4da6-8165-943525e86511"
   },
   "outputs": [
    {
     "name": "stdout",
     "output_type": "stream",
     "text": [
      "2012\n",
      "1889\n",
      "70152    4182\n",
      "70153    4488\n",
      "70154      20\n",
      "70155      20\n",
      "70156      20\n",
      "70157      20\n",
      "70158      20\n",
      "70159      20\n",
      "Name: Interest_Rate, dtype: int64\n"
     ]
    }
   ],
   "source": [
    "print(credit_df[credit_df['Interest_Rate'] > 100]['Customer_ID'].values.size)\n",
    "print(credit_df[credit_df['Interest_Rate'] > 100]['Customer_ID'].unique().size)\n",
    "print(credit_df[credit_df['Customer_ID'] == 'CUS_0x1915']['Interest_Rate'])"
   ]
  },
  {
   "cell_type": "code",
   "execution_count": 85,
   "metadata": {
    "id": "dp8JFEvosEtt"
   },
   "outputs": [],
   "source": [
    "abnormal_interest = credit_df[credit_df['Interest_Rate'] > 100]['Customer_ID'].values\n",
    "for id in abnormal_interest:\n",
    "  if credit_df[credit_df['Customer_ID'] == id]['Interest_Rate'].drop_duplicates().values.size > 1:\n",
    "    rate = credit_df[credit_df['Customer_ID'] == id]['Interest_Rate'].drop_duplicates().values[0]\n",
    "    if rate > 100:\n",
    "          rate = credit_df[credit_df['Customer_ID'] == id]['Interest_Rate'].drop_duplicates().values[1]\n",
    "    credit_df.loc[(credit_df['Customer_ID'] == id) & (\n",
    "        (credit_df['Interest_Rate'] < 0) | (credit_df['Interest_Rate'] > 11)), ['Interest_Rate']] = rate\n",
    "  #else:\n",
    "    #print(credit_df[credit_df['Customer_ID'] == id]['Interest_Rate'])\n",
    "mean_interest = credit_df[credit_df['Interest_Rate'] <= 100]['Interest_Rate'].values"
   ]
  },
  {
   "cell_type": "code",
   "execution_count": 86,
   "metadata": {
    "colab": {
     "base_uri": "https://localhost:8080/"
    },
    "id": "XTQJXBit1gNs",
    "outputId": "d5fa3123-5d04-4d51-e540-fccbe0fba4e8"
   },
   "outputs": [
    {
     "name": "stdout",
     "output_type": "stream",
     "text": [
      "17880    936\n",
      "17881    936\n",
      "17882    936\n",
      "17883    936\n",
      "17884    936\n",
      "17885    936\n",
      "17886    936\n",
      "17887    936\n",
      "Name: Interest_Rate, dtype: int64\n"
     ]
    }
   ],
   "source": [
    "print(credit_df[credit_df['Customer_ID'] == 'CUS_0xac67']['Interest_Rate'])"
   ]
  },
  {
   "cell_type": "code",
   "execution_count": 87,
   "metadata": {
    "id": "Pv5TD3pjWGpi"
   },
   "outputs": [],
   "source": [
    "credit_df['Num_of_Loan'] = [str(val).replace('_', '') for val in credit_df['Num_of_Loan']]\n",
    "credit_df['Num_of_Loan'] = credit_df['Num_of_Loan'].astype(int)"
   ]
  },
  {
   "cell_type": "code",
   "execution_count": 88,
   "metadata": {
    "colab": {
     "base_uri": "https://localhost:8080/",
     "height": 530
    },
    "id": "lFh-KtnbWwtD",
    "outputId": "db53fbad-28ce-40b4-cc63-d833f110892b"
   },
   "outputs": [
    {
     "data": {
      "text/html": [
       "<div>\n",
       "<style scoped>\n",
       "    .dataframe tbody tr th:only-of-type {\n",
       "        vertical-align: middle;\n",
       "    }\n",
       "\n",
       "    .dataframe tbody tr th {\n",
       "        vertical-align: top;\n",
       "    }\n",
       "\n",
       "    .dataframe thead th {\n",
       "        text-align: right;\n",
       "    }\n",
       "</style>\n",
       "<table border=\"1\" class=\"dataframe\">\n",
       "  <thead>\n",
       "    <tr style=\"text-align: right;\">\n",
       "      <th></th>\n",
       "      <th>ID</th>\n",
       "      <th>Customer_ID</th>\n",
       "      <th>Month</th>\n",
       "      <th>Name</th>\n",
       "      <th>Age</th>\n",
       "      <th>SSN</th>\n",
       "      <th>Occupation</th>\n",
       "      <th>Annual_Income</th>\n",
       "      <th>Monthly_Inhand_Salary</th>\n",
       "      <th>Num_Bank_Accounts</th>\n",
       "      <th>...</th>\n",
       "      <th>Credit_Mix</th>\n",
       "      <th>Outstanding_Debt</th>\n",
       "      <th>Credit_Utilization_Ratio</th>\n",
       "      <th>Credit_History_Age</th>\n",
       "      <th>Payment_of_Min_Amount</th>\n",
       "      <th>Total_EMI_per_month</th>\n",
       "      <th>Amount_invested_monthly</th>\n",
       "      <th>Payment_Behaviour</th>\n",
       "      <th>Monthly_Balance</th>\n",
       "      <th>Credit_Score</th>\n",
       "    </tr>\n",
       "  </thead>\n",
       "  <tbody>\n",
       "    <tr>\n",
       "      <th>21</th>\n",
       "      <td>0x161f</td>\n",
       "      <td>CUS_0x2dbc</td>\n",
       "      <td>June</td>\n",
       "      <td>Langep</td>\n",
       "      <td>34</td>\n",
       "      <td>486-85-3974</td>\n",
       "      <td>Engineer</td>\n",
       "      <td>143162.64</td>\n",
       "      <td>12187.220000</td>\n",
       "      <td>1</td>\n",
       "      <td>...</td>\n",
       "      <td>Good</td>\n",
       "      <td>1303.01</td>\n",
       "      <td>39.783993</td>\n",
       "      <td>18 Years and 2 Months</td>\n",
       "      <td>No</td>\n",
       "      <td>246.992319</td>\n",
       "      <td>257.80809942568976</td>\n",
       "      <td>High_spent_Medium_value_payments</td>\n",
       "      <td>963.9215811205684</td>\n",
       "      <td>Good</td>\n",
       "    </tr>\n",
       "    <tr>\n",
       "      <th>31</th>\n",
       "      <td>0x162d</td>\n",
       "      <td>CUS_0xb891</td>\n",
       "      <td>August</td>\n",
       "      <td>Jasond</td>\n",
       "      <td>55</td>\n",
       "      <td>072-31-6145</td>\n",
       "      <td>Entrepreneur</td>\n",
       "      <td>30689.89</td>\n",
       "      <td>2612.490833</td>\n",
       "      <td>2</td>\n",
       "      <td>...</td>\n",
       "      <td>Good</td>\n",
       "      <td>632.46</td>\n",
       "      <td>27.332515</td>\n",
       "      <td>17 Years and 10 Months</td>\n",
       "      <td>No</td>\n",
       "      <td>16.415452</td>\n",
       "      <td>125.61725053231268</td>\n",
       "      <td>High_spent_Small_value_payments</td>\n",
       "      <td>379.21638114119577</td>\n",
       "      <td>Standard</td>\n",
       "    </tr>\n",
       "    <tr>\n",
       "      <th>32</th>\n",
       "      <td>0x1632</td>\n",
       "      <td>CUS_0x1cdb</td>\n",
       "      <td>January</td>\n",
       "      <td>Deepaa</td>\n",
       "      <td>21</td>\n",
       "      <td>615-06-7821</td>\n",
       "      <td>Developer</td>\n",
       "      <td>35547.71</td>\n",
       "      <td>2853.309167</td>\n",
       "      <td>7</td>\n",
       "      <td>...</td>\n",
       "      <td>Standard</td>\n",
       "      <td>943.86</td>\n",
       "      <td>39.797764</td>\n",
       "      <td>30 Years and 8 Months</td>\n",
       "      <td>Yes</td>\n",
       "      <td>0.000000</td>\n",
       "      <td>276.72539431736266</td>\n",
       "      <td>!@9#%8</td>\n",
       "      <td>288.60552234930395</td>\n",
       "      <td>Standard</td>\n",
       "    </tr>\n",
       "    <tr>\n",
       "      <th>33</th>\n",
       "      <td>0x1633</td>\n",
       "      <td>CUS_0x1cdb</td>\n",
       "      <td>February</td>\n",
       "      <td>Deepaa</td>\n",
       "      <td>21</td>\n",
       "      <td>615-06-7821</td>\n",
       "      <td>Developer</td>\n",
       "      <td>35547.71</td>\n",
       "      <td>2853.309167</td>\n",
       "      <td>7</td>\n",
       "      <td>...</td>\n",
       "      <td>Standard</td>\n",
       "      <td>943.86</td>\n",
       "      <td>27.020360</td>\n",
       "      <td>30 Years and 9 Months</td>\n",
       "      <td>NM</td>\n",
       "      <td>0.000000</td>\n",
       "      <td>74.44364104999623</td>\n",
       "      <td>High_spent_Medium_value_payments</td>\n",
       "      <td>460.88727561667037</td>\n",
       "      <td>Standard</td>\n",
       "    </tr>\n",
       "    <tr>\n",
       "      <th>34</th>\n",
       "      <td>0x1634</td>\n",
       "      <td>CUS_0x1cdb</td>\n",
       "      <td>March</td>\n",
       "      <td>Deepaa</td>\n",
       "      <td>21</td>\n",
       "      <td>615-06-7821</td>\n",
       "      <td>Developer</td>\n",
       "      <td>35547.71</td>\n",
       "      <td>2853.309167</td>\n",
       "      <td>7</td>\n",
       "      <td>...</td>\n",
       "      <td>Standard</td>\n",
       "      <td>943.86</td>\n",
       "      <td>23.462303</td>\n",
       "      <td>30 Years and 10 Months</td>\n",
       "      <td>Yes</td>\n",
       "      <td>0.000000</td>\n",
       "      <td>173.13865100158367</td>\n",
       "      <td>Low_spent_Medium_value_payments</td>\n",
       "      <td>392.1922656650829</td>\n",
       "      <td>Standard</td>\n",
       "    </tr>\n",
       "    <tr>\n",
       "      <th>...</th>\n",
       "      <td>...</td>\n",
       "      <td>...</td>\n",
       "      <td>...</td>\n",
       "      <td>...</td>\n",
       "      <td>...</td>\n",
       "      <td>...</td>\n",
       "      <td>...</td>\n",
       "      <td>...</td>\n",
       "      <td>...</td>\n",
       "      <td>...</td>\n",
       "      <td>...</td>\n",
       "      <td>...</td>\n",
       "      <td>...</td>\n",
       "      <td>...</td>\n",
       "      <td>...</td>\n",
       "      <td>...</td>\n",
       "      <td>...</td>\n",
       "      <td>...</td>\n",
       "      <td>...</td>\n",
       "      <td>...</td>\n",
       "      <td>...</td>\n",
       "    </tr>\n",
       "    <tr>\n",
       "      <th>99941</th>\n",
       "      <td>0x25f97</td>\n",
       "      <td>CUS_0xad4f</td>\n",
       "      <td>June</td>\n",
       "      <td>Sabina Zawadzkig</td>\n",
       "      <td>47</td>\n",
       "      <td>226-45-0652</td>\n",
       "      <td>Developer</td>\n",
       "      <td>22620.79</td>\n",
       "      <td>1722.065833</td>\n",
       "      <td>7</td>\n",
       "      <td>...</td>\n",
       "      <td>Standard</td>\n",
       "      <td>642.46</td>\n",
       "      <td>27.699504</td>\n",
       "      <td>NaN</td>\n",
       "      <td>No</td>\n",
       "      <td>0.000000</td>\n",
       "      <td>207.47345558788197</td>\n",
       "      <td>Low_spent_Small_value_payments</td>\n",
       "      <td>254.733128</td>\n",
       "      <td>Poor</td>\n",
       "    </tr>\n",
       "    <tr>\n",
       "      <th>99942</th>\n",
       "      <td>0x25f98</td>\n",
       "      <td>CUS_0xad4f</td>\n",
       "      <td>July</td>\n",
       "      <td>Sabina Zawadzkig</td>\n",
       "      <td>48</td>\n",
       "      <td>#F%$D@*&amp;8</td>\n",
       "      <td>Developer</td>\n",
       "      <td>22620.79</td>\n",
       "      <td>1722.065833</td>\n",
       "      <td>6</td>\n",
       "      <td>...</td>\n",
       "      <td>Standard</td>\n",
       "      <td>642.46</td>\n",
       "      <td>24.714779</td>\n",
       "      <td>29 Years and 9 Months</td>\n",
       "      <td>No</td>\n",
       "      <td>0.000000</td>\n",
       "      <td>16.53218878920387</td>\n",
       "      <td>High_spent_Large_value_payments</td>\n",
       "      <td>395.674395</td>\n",
       "      <td>Poor</td>\n",
       "    </tr>\n",
       "    <tr>\n",
       "      <th>99943</th>\n",
       "      <td>0x25f99</td>\n",
       "      <td>CUS_0xad4f</td>\n",
       "      <td>August</td>\n",
       "      <td>Sabina Zawadzkig</td>\n",
       "      <td>48</td>\n",
       "      <td>226-45-0652</td>\n",
       "      <td>Developer</td>\n",
       "      <td>22620.79</td>\n",
       "      <td>1722.065833</td>\n",
       "      <td>6</td>\n",
       "      <td>...</td>\n",
       "      <td>_</td>\n",
       "      <td>642.46</td>\n",
       "      <td>34.026427</td>\n",
       "      <td>29 Years and 10 Months</td>\n",
       "      <td>No</td>\n",
       "      <td>0.000000</td>\n",
       "      <td>205.21728040016708</td>\n",
       "      <td>Low_spent_Small_value_payments</td>\n",
       "      <td>256.989303</td>\n",
       "      <td>Poor</td>\n",
       "    </tr>\n",
       "    <tr>\n",
       "      <th>99969</th>\n",
       "      <td>0x25fc3</td>\n",
       "      <td>CUS_0xf16</td>\n",
       "      <td>February</td>\n",
       "      <td>Maria Sheahanb</td>\n",
       "      <td>45</td>\n",
       "      <td>868-70-2218</td>\n",
       "      <td>Media_Manager</td>\n",
       "      <td>16680.35</td>\n",
       "      <td>1528.029167</td>\n",
       "      <td>1</td>\n",
       "      <td>...</td>\n",
       "      <td>Good</td>\n",
       "      <td>897.16</td>\n",
       "      <td>34.085971</td>\n",
       "      <td>21 Years and 2 Months</td>\n",
       "      <td>No</td>\n",
       "      <td>41.113561</td>\n",
       "      <td>104.64623687765652</td>\n",
       "      <td>High_spent_Small_value_payments</td>\n",
       "      <td>267.043119</td>\n",
       "      <td>Good</td>\n",
       "    </tr>\n",
       "    <tr>\n",
       "      <th>99987</th>\n",
       "      <td>0x25fdd</td>\n",
       "      <td>CUS_0x8600</td>\n",
       "      <td>April</td>\n",
       "      <td>Sarah McBridec</td>\n",
       "      <td>28</td>\n",
       "      <td>031-35-0942</td>\n",
       "      <td>Architect</td>\n",
       "      <td>20002.88</td>\n",
       "      <td>1929.906667</td>\n",
       "      <td>10</td>\n",
       "      <td>...</td>\n",
       "      <td>_</td>\n",
       "      <td>3571.7</td>\n",
       "      <td>30.614953</td>\n",
       "      <td>5 Years and 11 Months</td>\n",
       "      <td>Yes</td>\n",
       "      <td>60.964772</td>\n",
       "      <td>43.72461709437765</td>\n",
       "      <td>High_spent_Large_value_payments</td>\n",
       "      <td>328.301277</td>\n",
       "      <td>Standard</td>\n",
       "    </tr>\n",
       "  </tbody>\n",
       "</table>\n",
       "<p>15278 rows × 28 columns</p>\n",
       "</div>"
      ],
      "text/plain": [
       "            ID Customer_ID     Month              Name  Age          SSN  \\\n",
       "21      0x161f  CUS_0x2dbc      June            Langep   34  486-85-3974   \n",
       "31      0x162d  CUS_0xb891    August            Jasond   55  072-31-6145   \n",
       "32      0x1632  CUS_0x1cdb   January            Deepaa   21  615-06-7821   \n",
       "33      0x1633  CUS_0x1cdb  February            Deepaa   21  615-06-7821   \n",
       "34      0x1634  CUS_0x1cdb     March            Deepaa   21  615-06-7821   \n",
       "...        ...         ...       ...               ...  ...          ...   \n",
       "99941  0x25f97  CUS_0xad4f      June  Sabina Zawadzkig   47  226-45-0652   \n",
       "99942  0x25f98  CUS_0xad4f      July  Sabina Zawadzkig   48    #F%$D@*&8   \n",
       "99943  0x25f99  CUS_0xad4f    August  Sabina Zawadzkig   48  226-45-0652   \n",
       "99969  0x25fc3   CUS_0xf16  February    Maria Sheahanb   45  868-70-2218   \n",
       "99987  0x25fdd  CUS_0x8600     April    Sarah McBridec   28  031-35-0942   \n",
       "\n",
       "          Occupation  Annual_Income  Monthly_Inhand_Salary  Num_Bank_Accounts  \\\n",
       "21          Engineer      143162.64           12187.220000                  1   \n",
       "31      Entrepreneur       30689.89            2612.490833                  2   \n",
       "32         Developer       35547.71            2853.309167                  7   \n",
       "33         Developer       35547.71            2853.309167                  7   \n",
       "34         Developer       35547.71            2853.309167                  7   \n",
       "...              ...            ...                    ...                ...   \n",
       "99941      Developer       22620.79            1722.065833                  7   \n",
       "99942      Developer       22620.79            1722.065833                  6   \n",
       "99943      Developer       22620.79            1722.065833                  6   \n",
       "99969  Media_Manager       16680.35            1528.029167                  1   \n",
       "99987      Architect       20002.88            1929.906667                 10   \n",
       "\n",
       "       ...  Credit_Mix  Outstanding_Debt  Credit_Utilization_Ratio  \\\n",
       "21     ...        Good           1303.01                 39.783993   \n",
       "31     ...        Good            632.46                 27.332515   \n",
       "32     ...    Standard            943.86                 39.797764   \n",
       "33     ...    Standard            943.86                 27.020360   \n",
       "34     ...    Standard            943.86                 23.462303   \n",
       "...    ...         ...               ...                       ...   \n",
       "99941  ...    Standard            642.46                 27.699504   \n",
       "99942  ...    Standard            642.46                 24.714779   \n",
       "99943  ...           _            642.46                 34.026427   \n",
       "99969  ...        Good            897.16                 34.085971   \n",
       "99987  ...           _            3571.7                 30.614953   \n",
       "\n",
       "           Credit_History_Age  Payment_of_Min_Amount Total_EMI_per_month  \\\n",
       "21      18 Years and 2 Months                     No          246.992319   \n",
       "31     17 Years and 10 Months                     No           16.415452   \n",
       "32      30 Years and 8 Months                    Yes            0.000000   \n",
       "33      30 Years and 9 Months                     NM            0.000000   \n",
       "34     30 Years and 10 Months                    Yes            0.000000   \n",
       "...                       ...                    ...                 ...   \n",
       "99941                     NaN                     No            0.000000   \n",
       "99942   29 Years and 9 Months                     No            0.000000   \n",
       "99943  29 Years and 10 Months                     No            0.000000   \n",
       "99969   21 Years and 2 Months                     No           41.113561   \n",
       "99987   5 Years and 11 Months                    Yes           60.964772   \n",
       "\n",
       "      Amount_invested_monthly                 Payment_Behaviour  \\\n",
       "21         257.80809942568976  High_spent_Medium_value_payments   \n",
       "31         125.61725053231268   High_spent_Small_value_payments   \n",
       "32         276.72539431736266                            !@9#%8   \n",
       "33          74.44364104999623  High_spent_Medium_value_payments   \n",
       "34         173.13865100158367   Low_spent_Medium_value_payments   \n",
       "...                       ...                               ...   \n",
       "99941      207.47345558788197    Low_spent_Small_value_payments   \n",
       "99942       16.53218878920387   High_spent_Large_value_payments   \n",
       "99943      205.21728040016708    Low_spent_Small_value_payments   \n",
       "99969      104.64623687765652   High_spent_Small_value_payments   \n",
       "99987       43.72461709437765   High_spent_Large_value_payments   \n",
       "\n",
       "          Monthly_Balance Credit_Score  \n",
       "21      963.9215811205684         Good  \n",
       "31     379.21638114119577     Standard  \n",
       "32     288.60552234930395     Standard  \n",
       "33     460.88727561667037     Standard  \n",
       "34      392.1922656650829     Standard  \n",
       "...                   ...          ...  \n",
       "99941          254.733128         Poor  \n",
       "99942          395.674395         Poor  \n",
       "99943          256.989303         Poor  \n",
       "99969          267.043119         Good  \n",
       "99987          328.301277     Standard  \n",
       "\n",
       "[15278 rows x 28 columns]"
      ]
     },
     "execution_count": 88,
     "metadata": {},
     "output_type": "execute_result"
    }
   ],
   "source": [
    "credit_df[(credit_df['Num_of_Loan'] > 10) |(credit_df['Num_of_Loan'] <= 0)]"
   ]
  },
  {
   "cell_type": "code",
   "execution_count": 89,
   "metadata": {
    "id": "MufDKAoCXDVd"
   },
   "outputs": [],
   "source": [
    "abnormal_loan = credit_df[(credit_df['Num_of_Loan'] > 9) | (\n",
    "    credit_df['Num_of_Loan'] <= 0)]['Customer_ID'].values\n",
    "\n",
    "for id in abnormal_loan:\n",
    "    numLoans = credit_df[credit_df['Customer_ID'] == id]['Num_of_Loan'].drop_duplicates().values[0]\n",
    "    if numLoans < 0 or numLoans > 9:\n",
    "        numLoans = credit_df[credit_df['Customer_ID'] == id]['Num_of_Loan'].drop_duplicates().values[1]\n",
    "    credit_df.loc[(credit_df['Customer_ID'] == id) & (\n",
    "        (credit_df['Num_of_Loan'] < 0) | (credit_df['Num_of_Loan'] > 9)), ['Num_of_Loan']] = numLoans"
   ]
  },
  {
   "cell_type": "code",
   "execution_count": 90,
   "metadata": {
    "colab": {
     "base_uri": "https://localhost:8080/"
    },
    "id": "YyZG0UqWX5n2",
    "outputId": "d5cf69ab-1f52-40e3-eeda-251c9125de08"
   },
   "outputs": [
    {
     "name": "stdout",
     "output_type": "stream",
     "text": [
      "24104    0\n",
      "24105    0\n",
      "24106    0\n",
      "24107    0\n",
      "24108    0\n",
      "24109    0\n",
      "24110    0\n",
      "24111    0\n",
      "Name: Num_of_Loan, dtype: int64\n",
      "24584    1\n",
      "24585    1\n",
      "24586    1\n",
      "24587    1\n",
      "24588    1\n",
      "24589    1\n",
      "24590    1\n",
      "24591    1\n",
      "Name: Num_of_Loan, dtype: int64\n"
     ]
    }
   ],
   "source": [
    "print(credit_df[credit_df['Customer_ID'] == 'CUS_0x9322']['Num_of_Loan'])\n",
    "print(credit_df[credit_df['Customer_ID'] == 'CUS_0x4e53']['Num_of_Loan'])"
   ]
  },
  {
   "cell_type": "code",
   "execution_count": 92,
   "metadata": {
    "scrolled": false
   },
   "outputs": [
    {
     "data": {
      "image/png": "[encoded data removed]",
      "text/plain": [
       "<Figure size 640x480 with 1 Axes>"
      ]
     },
     "metadata": {},
     "output_type": "display_data"
    }
   ],
   "source": [
    "plt.hist(credit_df['Credit_Score'])\n",
    "plt.show()"
   ]
  },
  {
   "cell_type": "code",
   "execution_count": 105,
   "metadata": {},
   "outputs": [
    {
     "name": "stderr",
     "output_type": "stream",
     "text": [
      "/var/folders/35/w4mjwsg52fx_0rmkjw1fmr7c0000gn/T/ipykernel_72130/2969837281.py:2: FutureWarning: The default value of numeric_only in DataFrame.corr is deprecated. In a future version, it will default to False. Select only valid columns or specify the value of numeric_only to silence this warning.\n",
      "  corr_matrix = X_df.corr().abs()\n"
     ]
    },
    {
     "data": {
      "text/plain": [
       "<Axes: >"
      ]
     },
     "execution_count": 105,
     "metadata": {},
     "output_type": "execute_result"
    },
    {
     "data": {
      "image/png": "[encoded data removed]",
      "text/plain": [
       "<Figure size 640x480 with 2 Axes>"
      ]
     },
     "metadata": {},
     "output_type": "display_data"
    }
   ],
   "source": [
    "X_df = credit_df.drop('Credit_Score', axis=1)\n",
    "corr_matrix = X_df.corr().abs()\n",
    "sns.heatmap(corr_matrix)"
   ]
  },
  {
   "cell_type": "code",
   "execution_count": 115,
   "metadata": {},
   "outputs": [
    {
     "data": {
      "image/png": "[encoded data removed]",
      "text/plain": [
       "<Figure size 640x480 with 1 Axes>"
      ]
     },
     "metadata": {},
     "output_type": "display_data"
    }
   ],
   "source": [
    "data = credit_df.groupby(['Payment_of_Min_Amount','Credit_Score'],sort=False,as_index=False).count()\n",
    "sns.barplot(data=data,x='Credit_Score',y='ID',hue='Payment_of_Min_Amount').set_title('Payment of Minimum Amount vs Credit Score')\n",
    "plt.ylabel('Count')\n",
    "plt.show()"
   ]
  },
  {
   "cell_type": "code",
   "execution_count": null,
   "metadata": {
    "id": "xxoSmVBgZGXL"
   },
   "outputs": [],
   "source": [
    "# Shumail"
   ]
  },
  {
   "cell_type": "code",
   "execution_count": null,
   "metadata": {
    "colab": {
     "base_uri": "https://localhost:8080/"
    },
    "id": "MlkrVXHIZvL4",
    "outputId": "615dd805-223c-42ac-d49f-36d78ea950de"
   },
   "outputs": [],
   "source": [
    "# df = pd.read_csv('train.csv')"
   ]
  },
  {
   "cell_type": "code",
   "execution_count": null,
   "metadata": {
    "id": "Pijm-9Hz9oPX"
   },
   "outputs": [],
   "source": [
    "df = credit_df # for consistent changes on the same data frames"
   ]
  },
  {
   "cell_type": "code",
   "execution_count": null,
   "metadata": {
    "colab": {
     "base_uri": "https://localhost:8080/"
    },
    "id": "7rQgVcbAZnuv",
    "outputId": "94f8f1a1-1009-4bcc-fd4a-87db265b5b87"
   },
   "outputs": [],
   "source": [
    "df.count()"
   ]
  },
  {
   "cell_type": "code",
   "execution_count": null,
   "metadata": {
    "colab": {
     "base_uri": "https://localhost:8080/"
    },
    "id": "HJtUjP3_ZGZ9",
    "outputId": "b7b8736d-025f-489a-fc6c-0bdf9bd80a6c"
   },
   "outputs": [],
   "source": [
    "df.info()"
   ]
  },
  {
   "cell_type": "code",
   "execution_count": null,
   "metadata": {
    "colab": {
     "base_uri": "https://localhost:8080/"
    },
    "id": "nGJ33rR0bz5F",
    "outputId": "5a3c9637-489d-4e8e-a101-316f23263e0b"
   },
   "outputs": [],
   "source": [
    "df.nunique(axis=0)"
   ]
  },
  {
   "cell_type": "code",
   "execution_count": null,
   "metadata": {
    "colab": {
     "base_uri": "https://localhost:8080/"
    },
    "id": "zfLTQhU6ZUcn",
    "outputId": "d5cf4b45-9635-42c0-8369-28663ba448fc"
   },
   "outputs": [],
   "source": [
    "df.isnull().sum()"
   ]
  },
  {
   "cell_type": "code",
   "execution_count": null,
   "metadata": {
    "id": "A7nkd7z4cKjN"
   },
   "outputs": [],
   "source": [
    "# feature 13: Type_of_Loan (Represents the average number of days delayed from the payment date)"
   ]
  },
  {
   "cell_type": "code",
   "execution_count": null,
   "metadata": {
    "id": "fIZYWdIDcZeN"
   },
   "outputs": [],
   "source": [
    "t = df.loc[df['Type_of_Loan'].isna(), ['Customer_ID', 'Type_of_Loan']]"
   ]
  },
  {
   "cell_type": "code",
   "execution_count": null,
   "metadata": {
    "colab": {
     "base_uri": "https://localhost:8080/",
     "height": 53
    },
    "id": "Z6_2Qwzac9nP",
    "outputId": "b57c9104-e8f7-49a7-d922-8613e83ea230"
   },
   "outputs": [],
   "source": [
    "r = t.groupby('Customer_ID')['Type_of_Loan'].agg(lambda x: x.isna().sum() != 8)\n",
    "r[r].reset_index()"
   ]
  },
  {
   "cell_type": "code",
   "execution_count": null,
   "metadata": {
    "id": "kCziuIIDfMpF"
   },
   "outputs": [],
   "source": [
    "# these missing values are empty for all the 8 months of customer ids and hence, cannot be computed."
   ]
  },
  {
   "cell_type": "code",
   "execution_count": null,
   "metadata": {
    "colab": {
     "base_uri": "https://localhost:8080/"
    },
    "id": "bTKROhv6ewFo",
    "outputId": "609f7d0e-9980-4daa-f958-62c493cc5f28"
   },
   "outputs": [],
   "source": [
    "df['Type_of_Loan'].value_counts()[:5] # replacing missing values with the most popular category: Not Specified"
   ]
  },
  {
   "cell_type": "code",
   "execution_count": null,
   "metadata": {
    "id": "AubczYDJd_j9"
   },
   "outputs": [],
   "source": [
    "df['Type_of_Loan'].fillna('Not Specified', inplace=True)"
   ]
  },
  {
   "cell_type": "code",
   "execution_count": null,
   "metadata": {
    "id": "wtRQd64Xfvtc"
   },
   "outputs": [],
   "source": [
    "# feature 14: Delay_from_due_date (Represents the average number of payments delayed by a person)"
   ]
  },
  {
   "cell_type": "code",
   "execution_count": null,
   "metadata": {
    "colab": {
     "base_uri": "https://localhost:8080/"
    },
    "id": "s3YikQ_PfqBh",
    "outputId": "c934dfa3-cdb4-4f94-9738-28321e1dea88"
   },
   "outputs": [],
   "source": [
    "df['Delay_from_due_date'].unique()"
   ]
  },
  {
   "cell_type": "code",
   "execution_count": null,
   "metadata": {
    "colab": {
     "base_uri": "https://localhost:8080/"
    },
    "id": "fJioy-YIfqFr",
    "outputId": "0c8adb96-9357-402b-a8ee-a8c996516b5c"
   },
   "outputs": [],
   "source": [
    "df['Delay_from_due_date'].mean() # mean delay days in payments"
   ]
  },
  {
   "cell_type": "code",
   "execution_count": null,
   "metadata": {
    "id": "6l3Fj-wtfqIN"
   },
   "outputs": [],
   "source": [
    "# feature 15: Num_of_Delayed_Payment (Represents the percentage change in credit card limit)"
   ]
  },
  {
   "cell_type": "code",
   "execution_count": null,
   "metadata": {
    "colab": {
     "base_uri": "https://localhost:8080/"
    },
    "id": "aQsMWuCTfqK_",
    "outputId": "9f7c35de-f444-4580-8337-d9298ad79941"
   },
   "outputs": [],
   "source": [
    "df['Num_of_Delayed_Payment'].unique()"
   ]
  },
  {
   "cell_type": "code",
   "execution_count": null,
   "metadata": {
    "id": "8cPQ2fNVfqNa"
   },
   "outputs": [],
   "source": [
    "df['Num_of_Delayed_Payment'] = df['Num_of_Delayed_Payment'].str.replace(r'(\\d+)_', r'\\1', regex=True) # remove value_ with value"
   ]
  },
  {
   "cell_type": "code",
   "execution_count": null,
   "metadata": {
    "colab": {
     "base_uri": "https://localhost:8080/"
    },
    "id": "K1LuDivXhC8z",
    "outputId": "6a092f02-b3fb-4ae3-821c-6627de7f1f14"
   },
   "outputs": [],
   "source": [
    "arr = df['Num_of_Delayed_Payment'].unique()\n",
    "non_digit_values = [str(value) for value in arr if re.search(r'\\D', str(value))]\n",
    "\n",
    "for value in non_digit_values:\n",
    "    print(value)"
   ]
  },
  {
   "cell_type": "code",
   "execution_count": null,
   "metadata": {
    "id": "TLRhWYtShC_K"
   },
   "outputs": [],
   "source": [
    "t1 = df.loc[df['Num_of_Delayed_Payment'].isna(), ['Customer_ID', 'Num_of_Delayed_Payment']]"
   ]
  },
  {
   "cell_type": "code",
   "execution_count": null,
   "metadata": {
    "colab": {
     "base_uri": "https://localhost:8080/",
     "height": 53
    },
    "id": "MYe6nC0EhDBc",
    "outputId": "c2d91aed-d278-4a59-c13f-6f4f45610e13"
   },
   "outputs": [],
   "source": [
    "r = t1.groupby('Customer_ID')['Num_of_Delayed_Payment'].agg(lambda x: x.isna().sum() == 8)\n",
    "r[r].reset_index()"
   ]
  },
  {
   "cell_type": "code",
   "execution_count": null,
   "metadata": {
    "id": "F25KPKQuj8Xm"
   },
   "outputs": [],
   "source": [
    "df['Num_of_Delayed_Payment'] = pd.to_numeric(df['Num_of_Delayed_Payment'], errors='coerce') # convert to numeric"
   ]
  },
  {
   "cell_type": "code",
   "execution_count": null,
   "metadata": {
    "id": "8c944fg8LJ7V"
   },
   "outputs": [],
   "source": [
    "df['Num_of_Delayed_Payment'] = np.where(df['Num_of_Delayed_Payment'] < 0, np.nan, df['Num_of_Delayed_Payment'])"
   ]
  },
  {
   "cell_type": "code",
   "execution_count": null,
   "metadata": {
    "colab": {
     "base_uri": "https://localhost:8080/"
    },
    "id": "HtW52o9HhDDm",
    "outputId": "a3a4697b-5f55-4e84-9bbc-105f4c8093eb"
   },
   "outputs": [],
   "source": [
    "result = df.groupby('Customer_ID')['Num_of_Delayed_Payment'].mean()\n",
    "result"
   ]
  },
  {
   "cell_type": "code",
   "execution_count": null,
   "metadata": {
    "id": "4r7y_u3fhDFz"
   },
   "outputs": [],
   "source": [
    "for i in range(len(df['Num_of_Delayed_Payment'])):\n",
    "  if pd.isna(df.at[i, 'Num_of_Delayed_Payment']):\n",
    "    df.loc[i, 'Num_of_Delayed_Payment'] = result[df['Customer_ID'][i]].copy()"
   ]
  },
  {
   "cell_type": "code",
   "execution_count": null,
   "metadata": {
    "colab": {
     "base_uri": "https://localhost:8080/"
    },
    "id": "afjAGT44hDKo",
    "outputId": "0541db51-beae-483c-e006-8671e3415c9d"
   },
   "outputs": [],
   "source": [
    "df['Num_of_Delayed_Payment'].unique()[:40]"
   ]
  },
  {
   "cell_type": "code",
   "execution_count": null,
   "metadata": {
    "colab": {
     "base_uri": "https://localhost:8080/"
    },
    "id": "BuM_EdLOoDyB",
    "outputId": "b26105ae-b127-447d-d514-2a2fa12c65e3"
   },
   "outputs": [],
   "source": [
    "df['Num_of_Delayed_Payment'].mean() # mean number of payments delayed"
   ]
  },
  {
   "cell_type": "code",
   "execution_count": null,
   "metadata": {
    "id": "DD-bLWtxhDNI"
   },
   "outputs": [],
   "source": [
    "# feature 16: Changed_Credit_Limit (Represents the percentage change in credit card limit)"
   ]
  },
  {
   "cell_type": "code",
   "execution_count": null,
   "metadata": {
    "colab": {
     "base_uri": "https://localhost:8080/"
    },
    "id": "VkLcWuo_hDPk",
    "outputId": "5e668d62-7173-42ec-f2c0-dfae9335a409"
   },
   "outputs": [],
   "source": [
    "df['Changed_Credit_Limit'].head(15)"
   ]
  },
  {
   "cell_type": "code",
   "execution_count": null,
   "metadata": {
    "id": "cIz95HvxpsX_"
   },
   "outputs": [],
   "source": [
    "df['Changed_Credit_Limit'] = df['Changed_Credit_Limit'].replace('_', np.nan)\n",
    "df['Changed_Credit_Limit'] = pd.to_numeric(df['Changed_Credit_Limit'], errors='coerce') # convert to numeric"
   ]
  },
  {
   "cell_type": "code",
   "execution_count": null,
   "metadata": {
    "colab": {
     "base_uri": "https://localhost:8080/",
     "height": 478
    },
    "id": "1H151EArLZWX",
    "outputId": "0cad1cce-2238-4851-8bdc-63e094a122a8"
   },
   "outputs": [],
   "source": [
    "df[df['Changed_Credit_Limit'] < 0]"
   ]
  },
  {
   "cell_type": "code",
   "execution_count": null,
   "metadata": {
    "colab": {
     "base_uri": "https://localhost:8080/"
    },
    "id": "bdW370ksr6Fn",
    "outputId": "80acccd9-847b-4529-e1e0-54725661b483"
   },
   "outputs": [],
   "source": [
    "df['Changed_Credit_Limit'][pd.isna(df['Changed_Credit_Limit'])]"
   ]
  },
  {
   "cell_type": "code",
   "execution_count": null,
   "metadata": {
    "id": "75V8Frl2n7ec"
   },
   "outputs": [],
   "source": [
    "t2 = df.loc[df['Changed_Credit_Limit'].isna(), ['Customer_ID', 'Changed_Credit_Limit']]"
   ]
  },
  {
   "cell_type": "code",
   "execution_count": null,
   "metadata": {
    "colab": {
     "base_uri": "https://localhost:8080/",
     "height": 53
    },
    "id": "S6G8sIrPn7me",
    "outputId": "5191fbd0-4881-425d-efb8-e8332836dcf3"
   },
   "outputs": [],
   "source": [
    "r = t2.groupby('Customer_ID')['Changed_Credit_Limit'].agg(lambda x: x.isna().sum() == 8)\n",
    "r[r].reset_index()"
   ]
  },
  {
   "cell_type": "code",
   "execution_count": null,
   "metadata": {
    "colab": {
     "base_uri": "https://localhost:8080/"
    },
    "id": "qqPk1CUTn7uN",
    "outputId": "e5acd15d-dc22-439f-c6d7-e08ce658d53e"
   },
   "outputs": [],
   "source": [
    "result = df.groupby('Customer_ID')['Changed_Credit_Limit'].mean()\n",
    "result"
   ]
  },
  {
   "cell_type": "code",
   "execution_count": null,
   "metadata": {
    "id": "17Qhrsubq-oG"
   },
   "outputs": [],
   "source": [
    "for i in range(len(df['Changed_Credit_Limit'])):\n",
    "  if pd.isna(df.at[i, 'Changed_Credit_Limit']):\n",
    "    df.loc[i, 'Changed_Credit_Limit'] = result[df['Customer_ID'][i]].copy()"
   ]
  },
  {
   "cell_type": "code",
   "execution_count": null,
   "metadata": {
    "colab": {
     "base_uri": "https://localhost:8080/"
    },
    "id": "eVAwKPiMq-qi",
    "outputId": "a3720d75-9ce0-4203-8a04-9e791ff3c572"
   },
   "outputs": [],
   "source": [
    "df['Changed_Credit_Limit'].unique()[:40]"
   ]
  },
  {
   "cell_type": "code",
   "execution_count": null,
   "metadata": {
    "colab": {
     "base_uri": "https://localhost:8080/"
    },
    "id": "EGupTQ4nq-s2",
    "outputId": "3f03288c-5c03-4bcf-d2db-0b326207fcf4"
   },
   "outputs": [],
   "source": [
    "df['Changed_Credit_Limit'].mean() # mean % change in credit card limit"
   ]
  },
  {
   "cell_type": "code",
   "execution_count": null,
   "metadata": {
    "id": "VJqlLpomq-vQ"
   },
   "outputs": [],
   "source": [
    "# feature 17: Num_Credit_Inquiries (Represents the number of credit card inquiries)"
   ]
  },
  {
   "cell_type": "code",
   "execution_count": null,
   "metadata": {
    "colab": {
     "base_uri": "https://localhost:8080/"
    },
    "id": "1s0e-xGQq-xy",
    "outputId": "bff2576e-1d43-4ad2-efe0-ba57e8d80fd8"
   },
   "outputs": [],
   "source": [
    "df['Num_Credit_Inquiries'].unique()"
   ]
  },
  {
   "cell_type": "code",
   "execution_count": null,
   "metadata": {
    "colab": {
     "base_uri": "https://localhost:8080/",
     "height": 99
    },
    "id": "jd1vZhsYLjSP",
    "outputId": "8e1a568e-fbec-406f-c7ec-dc58a99f6c77"
   },
   "outputs": [],
   "source": [
    "df[df['Num_Credit_Inquiries'] < 0]"
   ]
  },
  {
   "cell_type": "code",
   "execution_count": null,
   "metadata": {
    "colab": {
     "base_uri": "https://localhost:8080/"
    },
    "id": "U0AgKk2TtCXg",
    "outputId": "889b49c7-0546-4f6c-cf18-49c40b930485"
   },
   "outputs": [],
   "source": [
    "df['Num_Credit_Inquiries'][pd.isna(df['Num_Credit_Inquiries'])]"
   ]
  },
  {
   "cell_type": "code",
   "execution_count": null,
   "metadata": {
    "id": "tgMObssCtCZ6"
   },
   "outputs": [],
   "source": [
    "t3 = df.loc[df['Num_Credit_Inquiries'].isna(), ['Customer_ID', 'Num_Credit_Inquiries']]"
   ]
  },
  {
   "cell_type": "code",
   "execution_count": null,
   "metadata": {
    "colab": {
     "base_uri": "https://localhost:8080/",
     "height": 53
    },
    "id": "ftUWPIfntCcD",
    "outputId": "441bd5d7-02c5-4aed-f046-077424b9faf9"
   },
   "outputs": [],
   "source": [
    "r = t3.groupby('Customer_ID')['Num_Credit_Inquiries'].agg(lambda x: x.isna().sum() == 8)\n",
    "r[r].reset_index()"
   ]
  },
  {
   "cell_type": "code",
   "execution_count": null,
   "metadata": {
    "colab": {
     "base_uri": "https://localhost:8080/"
    },
    "id": "6kUVhtl7uizz",
    "outputId": "9725c5a9-34d4-4351-ad29-db051c398032"
   },
   "outputs": [],
   "source": [
    "result = df.groupby('Customer_ID')['Num_Credit_Inquiries'].mean()\n",
    "result"
   ]
  },
  {
   "cell_type": "code",
   "execution_count": null,
   "metadata": {
    "id": "tWzwBW42tCef"
   },
   "outputs": [],
   "source": [
    "for i in range(len(df['Num_Credit_Inquiries'])):\n",
    "  if pd.isna(df.at[i, 'Num_Credit_Inquiries']):\n",
    "    df.loc[i, 'Num_Credit_Inquiries'] = result[df['Customer_ID'][i]].copy()"
   ]
  },
  {
   "cell_type": "code",
   "execution_count": null,
   "metadata": {
    "colab": {
     "base_uri": "https://localhost:8080/"
    },
    "id": "7RBKbYK8tCgw",
    "outputId": "4e6758a9-f254-437a-e227-8e82da788fb2"
   },
   "outputs": [],
   "source": [
    "df['Num_Credit_Inquiries'].unique()[:40]"
   ]
  },
  {
   "cell_type": "code",
   "execution_count": null,
   "metadata": {
    "colab": {
     "base_uri": "https://localhost:8080/"
    },
    "id": "djzR2dZjtCjL",
    "outputId": "02ca418a-44b1-4562-eb59-b85684213313"
   },
   "outputs": [],
   "source": [
    "df['Num_Credit_Inquiries'].mean() # mean number of credit card inquiries"
   ]
  },
  {
   "cell_type": "code",
   "execution_count": null,
   "metadata": {
    "id": "YJwJ3KZctCls"
   },
   "outputs": [],
   "source": [
    "# feature 18: Credit_Mix (Represents the classification of the mix of credits)"
   ]
  },
  {
   "cell_type": "code",
   "execution_count": null,
   "metadata": {
    "colab": {
     "base_uri": "https://localhost:8080/",
     "height": 520
    },
    "id": "8pNd0lCGvAGZ",
    "outputId": "a7ec8397-3014-4420-809a-5efa84c32165"
   },
   "outputs": [],
   "source": [
    "df.loc[:,['Customer_ID', 'Credit_Mix']].head(15)"
   ]
  },
  {
   "cell_type": "code",
   "execution_count": null,
   "metadata": {
    "colab": {
     "base_uri": "https://localhost:8080/"
    },
    "id": "jgRzheQxtCoQ",
    "outputId": "c621b5d7-c5c8-43a2-caaf-0a5550986d90"
   },
   "outputs": [],
   "source": [
    "df['Credit_Mix'].unique()"
   ]
  },
  {
   "cell_type": "code",
   "execution_count": null,
   "metadata": {
    "id": "SpnQa4Fqt9Sr"
   },
   "outputs": [],
   "source": [
    "df['Credit_Mix'] = df['Credit_Mix'].replace('_', np.nan)"
   ]
  },
  {
   "cell_type": "code",
   "execution_count": null,
   "metadata": {
    "colab": {
     "base_uri": "https://localhost:8080/"
    },
    "id": "eqXYusozt9VN",
    "outputId": "64866fed-b235-4295-ecd7-00e92406e85b"
   },
   "outputs": [],
   "source": [
    "result = df.groupby('Customer_ID')['Credit_Mix'].agg(lambda x: x.mode().iloc[0] if not x.mode().empty else None)\n",
    "result"
   ]
  },
  {
   "cell_type": "code",
   "execution_count": null,
   "metadata": {
    "id": "a9Fyqslkt9Xe"
   },
   "outputs": [],
   "source": [
    "for i in range(len(df['Credit_Mix'])):\n",
    "  if pd.isna(df.at[i, 'Credit_Mix']):\n",
    "    df.loc[i, 'Credit_Mix'] = result[df['Customer_ID'][i]]"
   ]
  },
  {
   "cell_type": "code",
   "execution_count": null,
   "metadata": {
    "id": "y5n7fjIUt9Z5"
   },
   "outputs": [],
   "source": [
    "# feature 19: Outstanding_Debt (Represents the remaining debt to be paid (in USD))"
   ]
  },
  {
   "cell_type": "code",
   "execution_count": null,
   "metadata": {
    "colab": {
     "base_uri": "https://localhost:8080/"
    },
    "id": "F-jwsprOt9cS",
    "outputId": "671d602e-4007-417d-8145-74fb9527981b"
   },
   "outputs": [],
   "source": [
    "arr = df['Outstanding_Debt'].unique()\n",
    "arr"
   ]
  },
  {
   "cell_type": "code",
   "execution_count": null,
   "metadata": {
    "colab": {
     "base_uri": "https://localhost:8080/"
    },
    "id": "4oEU9Ahct9e1",
    "outputId": "ea0689e6-44cc-432b-b200-77b736898db3"
   },
   "outputs": [],
   "source": [
    "for value in arr:\n",
    "    if value.endswith('_'):\n",
    "        print(value)"
   ]
  },
  {
   "cell_type": "code",
   "execution_count": null,
   "metadata": {
    "id": "NFW_luw7t9hP"
   },
   "outputs": [],
   "source": [
    "df['Outstanding_Debt'] = df['Outstanding_Debt'].str.replace(r'(\\d+)_', r'\\1', regex=True) # remove value_ with value"
   ]
  },
  {
   "cell_type": "code",
   "execution_count": null,
   "metadata": {
    "id": "AiUL3fQ9t9kC"
   },
   "outputs": [],
   "source": [
    "df['Outstanding_Debt'] = pd.to_numeric(df['Outstanding_Debt'], errors='coerce') # convert to numeric"
   ]
  },
  {
   "cell_type": "code",
   "execution_count": null,
   "metadata": {
    "colab": {
     "base_uri": "https://localhost:8080/",
     "height": 99
    },
    "id": "DQAiiWgDLwF8",
    "outputId": "a25f2fa4-ba82-4e48-c503-66414ac63c52"
   },
   "outputs": [],
   "source": [
    "df[df['Outstanding_Debt'] < 0]"
   ]
  },
  {
   "cell_type": "code",
   "execution_count": null,
   "metadata": {
    "colab": {
     "base_uri": "https://localhost:8080/"
    },
    "id": "ycPpczjjt9m0",
    "outputId": "0652bfa1-598c-454f-edd9-d3f24a7d1a37"
   },
   "outputs": [],
   "source": [
    "df['Outstanding_Debt'][pd.isna(df['Num_Credit_Inquiries'])]"
   ]
  },
  {
   "cell_type": "code",
   "execution_count": null,
   "metadata": {
    "colab": {
     "base_uri": "https://localhost:8080/"
    },
    "id": "D3eprI9Yt9px",
    "outputId": "9e8f5ec4-ae06-4c33-9ffc-0fca3fa0ff9f"
   },
   "outputs": [],
   "source": [
    "df['Outstanding_Debt'].mean() # 1426 USD outstanding debt on average"
   ]
  },
  {
   "cell_type": "code",
   "execution_count": null,
   "metadata": {
    "id": "WOwXrm3Ct9sZ"
   },
   "outputs": [],
   "source": [
    "# feature 20: Credit_Utilization_Ratio (Represents the utilization ratio of credit card)"
   ]
  },
  {
   "cell_type": "code",
   "execution_count": null,
   "metadata": {
    "colab": {
     "base_uri": "https://localhost:8080/"
    },
    "id": "uYIINBueq-0e",
    "outputId": "708acfcb-9889-4f1d-d62f-0361b4be6b62"
   },
   "outputs": [],
   "source": [
    "df['Credit_Utilization_Ratio']"
   ]
  },
  {
   "cell_type": "code",
   "execution_count": null,
   "metadata": {
    "colab": {
     "base_uri": "https://localhost:8080/",
     "height": 99
    },
    "id": "IoN2ttnsLzpv",
    "outputId": "79d85351-d593-4d4a-9f54-cc3abbaf6db1"
   },
   "outputs": [],
   "source": [
    "df[df['Credit_Utilization_Ratio'] < 0]"
   ]
  },
  {
   "cell_type": "code",
   "execution_count": null,
   "metadata": {
    "colab": {
     "base_uri": "https://localhost:8080/"
    },
    "id": "BCto2mlaw8gs",
    "outputId": "c5e62ad1-6978-42f2-dc1b-b991e7a6ffda"
   },
   "outputs": [],
   "source": [
    "df['Credit_Utilization_Ratio'].nunique()"
   ]
  },
  {
   "cell_type": "code",
   "execution_count": null,
   "metadata": {
    "colab": {
     "base_uri": "https://localhost:8080/"
    },
    "id": "ph0FBeiLw8jI",
    "outputId": "d2f53bb8-9d09-4785-fef2-5ac3150d3689"
   },
   "outputs": [],
   "source": [
    "df['Credit_Utilization_Ratio'].mean() # average utilization ratio of credit card is 32"
   ]
  },
  {
   "cell_type": "code",
   "execution_count": null,
   "metadata": {
    "id": "dZstHaCOw8mL"
   },
   "outputs": [],
   "source": [
    "# feature 21: Credit_History_Age"
   ]
  },
  {
   "cell_type": "code",
   "execution_count": null,
   "metadata": {
    "colab": {
     "base_uri": "https://localhost:8080/"
    },
    "id": "S-vaTLD_w8pH",
    "outputId": "923cb347-98d5-463e-a9fe-e4a4d9959ece"
   },
   "outputs": [],
   "source": [
    "df['Credit_History_Age'].head(10)"
   ]
  },
  {
   "cell_type": "code",
   "execution_count": null,
   "metadata": {
    "colab": {
     "base_uri": "https://localhost:8080/",
     "height": 990
    },
    "id": "ywpOdVJ5w8sD",
    "outputId": "6554593f-d013-4f5e-9129-c5d8be39035e"
   },
   "outputs": [],
   "source": [
    "df.loc[:,['Customer_ID', 'Credit_History_Age']].head(30)"
   ]
  },
  {
   "cell_type": "code",
   "execution_count": null,
   "metadata": {
    "id": "KerzoH4Gw8ur"
   },
   "outputs": [],
   "source": [
    "years_months = df[\"Credit_History_Age\"].str.extract(r'(\\d+)\\s*Years?\\s*and\\s*(\\d+)\\s*Months?')"
   ]
  },
  {
   "cell_type": "code",
   "execution_count": null,
   "metadata": {
    "colab": {
     "base_uri": "https://localhost:8080/",
     "height": 520
    },
    "id": "oMcBL6r6w805",
    "outputId": "aa956191-2124-4c73-f461-bdd9fcc05226"
   },
   "outputs": [],
   "source": [
    "years_months.head(15)"
   ]
  },
  {
   "cell_type": "code",
   "execution_count": null,
   "metadata": {
    "colab": {
     "base_uri": "https://localhost:8080/"
    },
    "id": "PssepSGt4N3W",
    "outputId": "ea005a27-9a53-4701-af0b-2ccfcf0d7022"
   },
   "outputs": [],
   "source": [
    "years_months.loc[1, 0]"
   ]
  },
  {
   "cell_type": "code",
   "execution_count": null,
   "metadata": {
    "id": "aWFlYFVT49R9"
   },
   "outputs": [],
   "source": [
    "for col in years_months.columns:\n",
    "    years_months[col] = pd.to_numeric(years_months[col], errors='coerce')"
   ]
  },
  {
   "cell_type": "code",
   "execution_count": null,
   "metadata": {
    "id": "tpXROLA02G9q"
   },
   "outputs": [],
   "source": [
    "for i in range(len(years_months[0])):\n",
    "  if pd.isna(years_months.at[i, 1]):\n",
    "    if i%8 == 0:\n",
    "      years_months.loc[i, 1] = 1\n",
    "    else:\n",
    "      years_months.loc[i, 1] = years_months.loc[i-1, 1] + 1"
   ]
  },
  {
   "cell_type": "code",
   "execution_count": null,
   "metadata": {
    "colab": {
     "base_uri": "https://localhost:8080/",
     "height": 53
    },
    "id": "rz6YlPR66lzE",
    "outputId": "8815f189-e340-48d5-87d4-796f03ca082b"
   },
   "outputs": [],
   "source": [
    "years_months[years_months.isna().any(axis=1)]"
   ]
  },
  {
   "cell_type": "code",
   "execution_count": null,
   "metadata": {
    "id": "Uk4LOW4x13gb"
   },
   "outputs": [],
   "source": [
    "years_months['Customer_ID'] = df['Customer_ID']"
   ]
  },
  {
   "cell_type": "code",
   "execution_count": null,
   "metadata": {
    "colab": {
     "base_uri": "https://localhost:8080/"
    },
    "id": "WZSqsaNXeqWy",
    "outputId": "be1004d7-c1b5-4a9f-a494-609d312aa556"
   },
   "outputs": [],
   "source": [
    "result = years_months.groupby('Customer_ID')[0].agg(lambda x: x.mode().iloc[0] if not x.mode().empty else None)\n",
    "result"
   ]
  },
  {
   "cell_type": "code",
   "execution_count": null,
   "metadata": {
    "id": "aqrYkWa70sAU"
   },
   "outputs": [],
   "source": [
    "for i in range(len(years_months[0])):\n",
    "  if pd.isna(years_months.at[i, 0]):\n",
    "    years_months.loc[i, 0] = result[years_months['Customer_ID'][i]]"
   ]
  },
  {
   "cell_type": "code",
   "execution_count": null,
   "metadata": {
    "colab": {
     "base_uri": "https://localhost:8080/",
     "height": 424
    },
    "id": "IagWQCiFMFHM",
    "outputId": "e9d4c635-d408-4de6-cf11-67664be6d9b2"
   },
   "outputs": [],
   "source": [
    "years_months[2] = (years_months[0] * 12) + years_months[1]\n",
    "years_months"
   ]
  },
  {
   "cell_type": "code",
   "execution_count": null,
   "metadata": {
    "id": "bW9G4RPZMIw8"
   },
   "outputs": [],
   "source": [
    "df['Credit_History_Age'] = years_months[2]"
   ]
  },
  {
   "cell_type": "code",
   "execution_count": null,
   "metadata": {
    "colab": {
     "base_uri": "https://localhost:8080/"
    },
    "id": "2zU0n8d0MNJT",
    "outputId": "e3dd9c37-851a-4057-b831-923998fe9955"
   },
   "outputs": [],
   "source": [
    "df['Credit_History_Age'].mean() # 221 months is the average age of credit history"
   ]
  },
  {
   "cell_type": "code",
   "execution_count": null,
   "metadata": {
    "id": "q-DvER-mMO3k"
   },
   "outputs": [],
   "source": [
    "# feature 22: Payment_of_Min_Amount (Represents whether only the minimum amount was paid by the person)"
   ]
  },
  {
   "cell_type": "code",
   "execution_count": null,
   "metadata": {
    "colab": {
     "base_uri": "https://localhost:8080/"
    },
    "id": "zID9TSotMROu",
    "outputId": "a6391d24-c792-4d69-c422-5a62f33a32d4"
   },
   "outputs": [],
   "source": [
    "df['Payment_of_Min_Amount']"
   ]
  },
  {
   "cell_type": "code",
   "execution_count": null,
   "metadata": {
    "colab": {
     "base_uri": "https://localhost:8080/"
    },
    "id": "ii5cJvfHMT6X",
    "outputId": "a68d8636-c7fb-41a8-b9a3-3c336c9ddda7"
   },
   "outputs": [],
   "source": [
    "df['Payment_of_Min_Amount'].unique()"
   ]
  },
  {
   "cell_type": "code",
   "execution_count": null,
   "metadata": {
    "colab": {
     "base_uri": "https://localhost:8080/"
    },
    "id": "m9mr_mGVMWa9",
    "outputId": "c213d65a-10bd-4168-a264-6462ce8c4af8"
   },
   "outputs": [],
   "source": [
    "df['Payment_of_Min_Amount'].value_counts()"
   ]
  },
  {
   "cell_type": "code",
   "execution_count": null,
   "metadata": {
    "id": "FFJviEPSMYGL"
   },
   "outputs": [],
   "source": [
    "# feature 23: Total_EMI_per_month (Represents the monthly EMI payments (in USD))"
   ]
  },
  {
   "cell_type": "code",
   "execution_count": null,
   "metadata": {
    "colab": {
     "base_uri": "https://localhost:8080/"
    },
    "id": "ya7Xm-X_MarB",
    "outputId": "3f0239c4-cb53-49eb-f27c-6215d17529ab"
   },
   "outputs": [],
   "source": [
    "df['Total_EMI_per_month']"
   ]
  },
  {
   "cell_type": "code",
   "execution_count": null,
   "metadata": {
    "colab": {
     "base_uri": "https://localhost:8080/",
     "height": 99
    },
    "id": "orBoxH3rMcsY",
    "outputId": "90edcc6e-8f6b-4e55-df3a-d6c2f02e69f9"
   },
   "outputs": [],
   "source": [
    "df[df['Total_EMI_per_month'] < 0]"
   ]
  },
  {
   "cell_type": "code",
   "execution_count": null,
   "metadata": {
    "colab": {
     "base_uri": "https://localhost:8080/"
    },
    "id": "YvxMsZYmMdlB",
    "outputId": "5138d137-d489-4efc-d180-8709fc581eda"
   },
   "outputs": [],
   "source": [
    "df['Total_EMI_per_month'].unique()[:100]"
   ]
  },
  {
   "cell_type": "code",
   "execution_count": null,
   "metadata": {
    "colab": {
     "base_uri": "https://localhost:8080/"
    },
    "id": "QhrAxu9DMfvD",
    "outputId": "9dbe8ffb-2be3-458d-b03a-960094cfe7a6"
   },
   "outputs": [],
   "source": [
    "df['Total_EMI_per_month'].mean() # average monthly EMI payments (in USD) are 1403"
   ]
  },
  {
   "cell_type": "code",
   "execution_count": null,
   "metadata": {
    "id": "asq4PvDhMiD8"
   },
   "outputs": [],
   "source": [
    "# feature 24: Amount_invested_monthly (Represents the monthly amount invested by the customer (in USD))"
   ]
  },
  {
   "cell_type": "code",
   "execution_count": null,
   "metadata": {
    "colab": {
     "base_uri": "https://localhost:8080/"
    },
    "id": "rf3LmGXVMj9r",
    "outputId": "36b45494-91e7-4eca-d4f2-c122994d3755"
   },
   "outputs": [],
   "source": [
    "df['Amount_invested_monthly'].unique()[:200]"
   ]
  },
  {
   "cell_type": "code",
   "execution_count": null,
   "metadata": {
    "id": "4cHwALMHMlvO"
   },
   "outputs": [],
   "source": [
    "df['Amount_invested_monthly'] = df['Amount_invested_monthly'].str.replace(r'_', '')\n",
    "df['Amount_invested_monthly'] = pd.to_numeric(df['Amount_invested_monthly'], errors='coerce') # convert to numeric"
   ]
  },
  {
   "cell_type": "code",
   "execution_count": null,
   "metadata": {
    "colab": {
     "base_uri": "https://localhost:8080/",
     "height": 99
    },
    "id": "2n_8YJ-3MoOD",
    "outputId": "ea279c25-3b1c-45c7-82a0-61f681281ce8"
   },
   "outputs": [],
   "source": [
    "df[df['Amount_invested_monthly'] < 0]"
   ]
  },
  {
   "cell_type": "code",
   "execution_count": null,
   "metadata": {
    "id": "u8w5w5hVMqyD"
   },
   "outputs": [],
   "source": [
    "t4 = df.loc[df['Amount_invested_monthly'].isna(), ['Customer_ID', 'Amount_invested_monthly']]"
   ]
  },
  {
   "cell_type": "code",
   "execution_count": null,
   "metadata": {
    "colab": {
     "base_uri": "https://localhost:8080/",
     "height": 53
    },
    "id": "tu4Nx2aBMspB",
    "outputId": "a56874e3-c2c6-4799-a8bf-8f682fe0b5a9"
   },
   "outputs": [],
   "source": [
    "r = t4.groupby('Customer_ID')['Amount_invested_monthly'].agg(lambda x: x.isna().sum() == 8)\n",
    "r[r].reset_index()"
   ]
  },
  {
   "cell_type": "code",
   "execution_count": null,
   "metadata": {
    "colab": {
     "base_uri": "https://localhost:8080/"
    },
    "id": "qA4FDLzBMuhy",
    "outputId": "76276886-2111-4107-a775-5182ed3a0df7"
   },
   "outputs": [],
   "source": [
    "result = df.groupby('Customer_ID')['Amount_invested_monthly'].mean()\n",
    "result"
   ]
  },
  {
   "cell_type": "code",
   "execution_count": null,
   "metadata": {
    "id": "DNZn6Wq8MwMB"
   },
   "outputs": [],
   "source": [
    "for i in range(len(df['Amount_invested_monthly'])):\n",
    "  if pd.isna(df.at[i, 'Amount_invested_monthly']):\n",
    "    df.loc[i, 'Amount_invested_monthly'] = result[df['Customer_ID'][i]].copy()"
   ]
  },
  {
   "cell_type": "code",
   "execution_count": null,
   "metadata": {
    "colab": {
     "base_uri": "https://localhost:8080/"
    },
    "id": "K7kRoMRYMyWt",
    "outputId": "c39301b0-0b08-43f9-e419-20eee652465e"
   },
   "outputs": [],
   "source": [
    "df['Amount_invested_monthly'].isna().sum()"
   ]
  },
  {
   "cell_type": "code",
   "execution_count": null,
   "metadata": {
    "colab": {
     "base_uri": "https://localhost:8080/"
    },
    "id": "Al59JnqiM0H0",
    "outputId": "4190e4af-8109-4e8f-8713-f16e6b1710e4"
   },
   "outputs": [],
   "source": [
    "df['Amount_invested_monthly'].mean() # average monthly amount invested is 638 USD"
   ]
  },
  {
   "cell_type": "code",
   "execution_count": null,
   "metadata": {
    "id": "3U40HbPQM19X"
   },
   "outputs": [],
   "source": [
    "# feature 25: Payment_Behaviour (Represents the payment behavior of the customer (in USD))"
   ]
  },
  {
   "cell_type": "code",
   "execution_count": null,
   "metadata": {
    "colab": {
     "base_uri": "https://localhost:8080/"
    },
    "id": "Gx4mjn4OM4CU",
    "outputId": "3b128998-04fb-45e2-b9a1-5fc97e120e0f"
   },
   "outputs": [],
   "source": [
    "df['Payment_Behaviour']"
   ]
  },
  {
   "cell_type": "code",
   "execution_count": null,
   "metadata": {
    "colab": {
     "base_uri": "https://localhost:8080/"
    },
    "id": "IuX_uHN-M6Hx",
    "outputId": "d2d1f7f1-b986-4395-9672-a968c4de71db"
   },
   "outputs": [],
   "source": [
    "df['Payment_Behaviour'].value_counts()"
   ]
  },
  {
   "cell_type": "code",
   "execution_count": null,
   "metadata": {
    "id": "T_YTAURHM75I"
   },
   "outputs": [],
   "source": [
    "df['Payment_Behaviour'] = df['Payment_Behaviour'].replace('!@9#%8', 'Not_specified')"
   ]
  },
  {
   "cell_type": "code",
   "execution_count": null,
   "metadata": {
    "id": "nrNG9DB4M9he"
   },
   "outputs": [],
   "source": [
    "# feature 26: Monthly_Balance (Represents the monthly balance amount of the customer (in USD))"
   ]
  },
  {
   "cell_type": "code",
   "execution_count": null,
   "metadata": {
    "colab": {
     "base_uri": "https://localhost:8080/"
    },
    "id": "Y-FFj5bFM_K3",
    "outputId": "8f434306-219a-4ed4-ff81-ecfd6e3418e0"
   },
   "outputs": [],
   "source": [
    "df['Monthly_Balance']"
   ]
  },
  {
   "cell_type": "code",
   "execution_count": null,
   "metadata": {
    "colab": {
     "base_uri": "https://localhost:8080/"
    },
    "id": "0XDc_0ypNA0Q",
    "outputId": "d098fb01-0700-4014-85e3-a92c7aa073c7"
   },
   "outputs": [],
   "source": [
    "df['Monthly_Balance'].unique()[300:500]"
   ]
  },
  {
   "cell_type": "code",
   "execution_count": null,
   "metadata": {
    "colab": {
     "base_uri": "https://localhost:8080/",
     "height": 548
    },
    "id": "xrj8HO_VNC4s",
    "outputId": "a4c350f6-c413-44db-866d-3edfac1b4569"
   },
   "outputs": [],
   "source": [
    "df[df['Monthly_Balance'].isna()]"
   ]
  },
  {
   "cell_type": "code",
   "execution_count": null,
   "metadata": {
    "id": "Xt4GPCosNLD6"
   },
   "outputs": [],
   "source": [
    "df['Monthly_Balance'] = pd.to_numeric(df['Monthly_Balance'], errors='coerce') # convert to numeric"
   ]
  },
  {
   "cell_type": "code",
   "execution_count": null,
   "metadata": {
    "colab": {
     "base_uri": "https://localhost:8080/",
     "height": 99
    },
    "id": "GIOKkM8ZNFzR",
    "outputId": "4d9d833a-9149-4217-d980-405902cb1333"
   },
   "outputs": [],
   "source": [
    "df[df['Monthly_Balance'] < 0]"
   ]
  },
  {
   "cell_type": "code",
   "execution_count": null,
   "metadata": {
    "id": "RGxxDK0iNHeB"
   },
   "outputs": [],
   "source": [
    "t5 = df.loc[df['Monthly_Balance'].isna(), ['Customer_ID', 'Monthly_Balance']]"
   ]
  },
  {
   "cell_type": "code",
   "execution_count": null,
   "metadata": {
    "colab": {
     "base_uri": "https://localhost:8080/",
     "height": 53
    },
    "id": "9w5MW9-uNPX2",
    "outputId": "bf62173f-ceb3-4351-fef8-7c02f8212c19"
   },
   "outputs": [],
   "source": [
    "r = t5.groupby('Customer_ID')['Monthly_Balance'].agg(lambda x: x.isna().sum() == 8)\n",
    "r[r].reset_index()"
   ]
  },
  {
   "cell_type": "code",
   "execution_count": null,
   "metadata": {
    "colab": {
     "base_uri": "https://localhost:8080/"
    },
    "id": "u1GiJhtUNR31",
    "outputId": "35ff85d2-0193-43b6-cd8a-d9d77756d82d"
   },
   "outputs": [],
   "source": [
    "result = df.groupby('Customer_ID')['Monthly_Balance'].mean()\n",
    "result"
   ]
  },
  {
   "cell_type": "code",
   "execution_count": null,
   "metadata": {
    "id": "7kv4Gs3-NUM2"
   },
   "outputs": [],
   "source": [
    "for i in range(len(df['Monthly_Balance'])):\n",
    "  if pd.isna(df.at[i, 'Monthly_Balance']):\n",
    "    df.loc[i, 'Monthly_Balance'] = result[df['Customer_ID'][i]].copy()"
   ]
  },
  {
   "cell_type": "code",
   "execution_count": null,
   "metadata": {
    "colab": {
     "base_uri": "https://localhost:8080/"
    },
    "id": "6Wlp0jVRNWBE",
    "outputId": "b857e2dd-4527-4f76-b805-745024d9aebe"
   },
   "outputs": [],
   "source": [
    "df['Monthly_Balance'].mean() # average monthly balance is 403 USD"
   ]
  },
  {
   "cell_type": "code",
   "execution_count": null,
   "metadata": {
    "id": "F2s06I5yNXah"
   },
   "outputs": [],
   "source": [
    "# feature 27: Credit_Score ()"
   ]
  },
  {
   "cell_type": "code",
   "execution_count": null,
   "metadata": {
    "colab": {
     "base_uri": "https://localhost:8080/"
    },
    "id": "e_cSn0QpNY_K",
    "outputId": "1f923c3a-c682-405d-bde5-232bf23bdde8"
   },
   "outputs": [],
   "source": [
    "df['Credit_Score'].value_counts()"
   ]
  },
  {
   "cell_type": "code",
   "execution_count": null,
   "metadata": {
    "colab": {
     "base_uri": "https://localhost:8080/"
    },
    "id": "v8azYsl6NlHa",
    "outputId": "dc7b9840-a7fe-4a84-a770-3b2741a4adaf"
   },
   "outputs": [],
   "source": [
    "df.isnull().sum()"
   ]
  },
  {
   "cell_type": "code",
   "execution_count": null,
   "metadata": {
    "colab": {
     "base_uri": "https://localhost:8080/"
    },
    "id": "3P0nSIukNxga",
    "outputId": "0354824d-e0fb-41a5-d946-56122b743c6e"
   },
   "outputs": [],
   "source": [
    "df.count()"
   ]
  },
  {
   "cell_type": "code",
   "execution_count": null,
   "metadata": {
    "colab": {
     "base_uri": "https://localhost:8080/"
    },
    "id": "CNpAPLpdNzTe",
    "outputId": "4df4e862-dee4-48d6-cc79-f806854aa03f"
   },
   "outputs": [],
   "source": [
    "df.info()"
   ]
  },
  {
   "cell_type": "code",
   "execution_count": null,
   "metadata": {
    "id": "VP52TKtQNaph"
   },
   "outputs": [],
   "source": [
    "# Preprocessing features from 13 to 27"
   ]
  },
  {
   "cell_type": "code",
   "execution_count": null,
   "metadata": {
    "colab": {
     "base_uri": "https://localhost:8080/"
    },
    "id": "6725tqInNdKn",
    "outputId": "c2e56a50-0989-4310-e0e8-7acba1198e32"
   },
   "outputs": [],
   "source": [
    "# encoding response variable\n",
    "mapping = {'Standard': 0.5, 'Poor': 0, 'Good': 1}\n",
    "df['Credit_Score'] = df['Credit_Score'].replace(mapping)\n",
    "df['Credit_Score'].value_counts()"
   ]
  },
  {
   "cell_type": "code",
   "execution_count": null,
   "metadata": {
    "id": "pES3y7UaVkZa"
   },
   "outputs": [],
   "source": [
    "# dropping columns no longer needed for modeling phase"
   ]
  },
  {
   "cell_type": "code",
   "execution_count": null,
   "metadata": {
    "colab": {
     "base_uri": "https://localhost:8080/"
    },
    "id": "5zw8e968Vmvl",
    "outputId": "e3e2b5f9-bfd5-4f34-f6af-9e50fe69c267"
   },
   "outputs": [],
   "source": [
    "df['Type_of_Loan'].unique()[:20]"
   ]
  },
  {
   "cell_type": "code",
   "execution_count": null,
   "metadata": {
    "colab": {
     "base_uri": "https://localhost:8080/"
    },
    "id": "HX3rAXZTVp8T",
    "outputId": "5e51f8b0-b01b-46b0-c351-8131f259afd7"
   },
   "outputs": [],
   "source": [
    "len(df['Type_of_Loan'].unique())"
   ]
  },
  {
   "cell_type": "code",
   "execution_count": null,
   "metadata": {
    "id": "qC954VUFO1Oz"
   },
   "outputs": [],
   "source": [
    "new_df = df.drop(['ID', 'Customer_ID', 'Name', 'SSN', 'Type_of_Loan'], axis=1)"
   ]
  },
  {
   "cell_type": "code",
   "execution_count": null,
   "metadata": {
    "colab": {
     "base_uri": "https://localhost:8080/"
    },
    "id": "bIaIDyCgPKOL",
    "outputId": "3419261b-d8d4-460f-b305-1b75f671df2b"
   },
   "outputs": [],
   "source": [
    "new_df.info()"
   ]
  },
  {
   "cell_type": "code",
   "execution_count": null,
   "metadata": {
    "colab": {
     "base_uri": "https://localhost:8080/"
    },
    "id": "VwQekhJlSMAb",
    "outputId": "55d7c59b-8edf-4d2f-8000-eee2b0cb1939"
   },
   "outputs": [],
   "source": [
    "new_df['Month'].value_counts()"
   ]
  },
  {
   "cell_type": "code",
   "execution_count": null,
   "metadata": {
    "colab": {
     "base_uri": "https://localhost:8080/"
    },
    "id": "JDPeK_iYSjv9",
    "outputId": "a54dc92a-57b4-4b97-f743-20cc34a0600f"
   },
   "outputs": [],
   "source": [
    "new_df['Payment_of_Min_Amount'].value_counts()"
   ]
  },
  {
   "cell_type": "code",
   "execution_count": null,
   "metadata": {
    "colab": {
     "base_uri": "https://localhost:8080/"
    },
    "id": "1cLkNqobSSir",
    "outputId": "abcb362d-cc04-4f3f-b9c4-0198f47ac404"
   },
   "outputs": [],
   "source": [
    "new_df['Payment_Behaviour'].value_counts()"
   ]
  },
  {
   "cell_type": "code",
   "execution_count": null,
   "metadata": {
    "colab": {
     "base_uri": "https://localhost:8080/"
    },
    "id": "0HogZaZQSXM6",
    "outputId": "86757511-5192-439d-b237-27309ec501b1"
   },
   "outputs": [],
   "source": [
    "new_df['Occupation'].value_counts()"
   ]
  },
  {
   "cell_type": "code",
   "execution_count": null,
   "metadata": {
    "colab": {
     "base_uri": "https://localhost:8080/"
    },
    "id": "YeTMBwG7P4EO",
    "outputId": "dc623694-5bb7-42c0-d596-3988d085e10d"
   },
   "outputs": [],
   "source": [
    "new_df['Credit_Mix'].value_counts()"
   ]
  },
  {
   "cell_type": "code",
   "execution_count": null,
   "metadata": {
    "colab": {
     "base_uri": "https://localhost:8080/",
     "height": 444
    },
    "id": "NcqALmo0PXRh",
    "outputId": "cba1a90e-64aa-4c30-8dbe-a7d70f7b0afd"
   },
   "outputs": [],
   "source": [
    "# encoding all categorical features as one-hot-encoding except for credit_mix which will be ordinally encoded\n",
    "\n",
    "new_df =  pd.get_dummies(new_df, columns = ['Month', 'Occupation', 'Payment_of_Min_Amount', 'Payment_Behaviour'], drop_first=True)\n",
    "new_df"
   ]
  },
  {
   "cell_type": "code",
   "execution_count": null,
   "metadata": {
    "colab": {
     "base_uri": "https://localhost:8080/"
    },
    "id": "pYeo_KWPQof8",
    "outputId": "a7d23dbf-77eb-4e93-c1c5-bc35d654e4f2"
   },
   "outputs": [],
   "source": [
    "quality_order = ['Bad', 'Standard', 'Good']\n",
    "encoder = OrdinalEncoder(categories=[quality_order])\n",
    "encoder.fit(new_df[['Credit_Mix']])\n",
    "\n",
    "new_df['Credit_Mix'] = encoder.transform(new_df[['Credit_Mix']].values.reshape(-1, 1))\n",
    "new_df['Credit_Mix'].value_counts()"
   ]
  },
  {
   "cell_type": "code",
   "execution_count": null,
   "metadata": {
    "id": "elzZAhmASGc5"
   },
   "outputs": [],
   "source": [
    "# splitting df into df_X and df_Y\n",
    "df_X = new_df.drop(columns=['Credit_Score'])\n",
    "df_Y = new_df['Credit_Score']"
   ]
  },
  {
   "cell_type": "code",
   "execution_count": null,
   "metadata": {
    "id": "oB8K9IfaULg4"
   },
   "outputs": [],
   "source": [
    "# correlation matrices and dropping more features with correlations > 0.9"
   ]
  },
  {
   "cell_type": "code",
   "execution_count": null,
   "metadata": {
    "colab": {
     "base_uri": "https://localhost:8080/",
     "height": 1000
    },
    "id": "Cti9Zl49UQwn",
    "outputId": "7aa9885c-7a6f-4cb5-b29d-3d79e050453f"
   },
   "outputs": [],
   "source": [
    "df_X.corr()"
   ]
  },
  {
   "cell_type": "code",
   "execution_count": null,
   "metadata": {
    "colab": {
     "base_uri": "https://localhost:8080/",
     "height": 462
    },
    "id": "mXeYUmfLUv5A",
    "outputId": "91ba824d-7ba5-4d5b-8149-8bf266d10999"
   },
   "outputs": [],
   "source": [
    "corr = df_X.corr().abs()\n",
    "utm = np.triu(np.ones(corr.shape), k=1).astype(bool)\n",
    "upper = corr.where(utm)\n",
    "\n",
    "to_drop = [column for column in upper.columns if any(upper[column] >= 0.90)]\n",
    "print('Columns dropped: ', to_drop) # monthly_inhand_salary has a correlation of 0.998237 with annual_income --> hence, dropped.\n",
    "df_X.drop(to_drop, axis=1, inplace=True)\n",
    "\n",
    "df_X"
   ]
  },
  {
   "cell_type": "code",
   "execution_count": null,
   "metadata": {
    "id": "7P2NAcaCVIHV"
   },
   "outputs": [],
   "source": [
    "# Model training"
   ]
  },
  {
   "cell_type": "code",
   "execution_count": null,
   "metadata": {
    "id": "L3TokJkgYhu3"
   },
   "outputs": [],
   "source": []
  }
 ],
 "metadata": {
  "accelerator": "GPU",
  "colab": {
   "gpuType": "T4",
   "provenance": [],
   "toc_visible": true
  },
  "kernelspec": {
   "display_name": "Python 3 (ipykernel)",
   "language": "python",
   "name": "python3"
  },
  "language_info": {
   "codemirror_mode": {
    "name": "ipython",
    "version": 3
   },
   "file_extension": ".py",
   "mimetype": "text/x-python",
   "name": "python",
   "nbconvert_exporter": "python",
   "pygments_lexer": "ipython3",
   "version": "3.11.4"
  }
 },
 "nbformat": 4,
 "nbformat_minor": 1
}
